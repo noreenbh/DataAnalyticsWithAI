{
 "cells": [
  {
   "cell_type": "markdown",
   "id": "f1dc768b-8d01-4a11-b921-d5814e9b479f",
   "metadata": {},
   "source": [
    "# Assignment # 4"
   ]
  },
  {
   "cell_type": "markdown",
   "id": "e2660e42-402e-43b0-b019-9326987e7937",
   "metadata": {},
   "source": [
    "### 4-1. Guest List: If you could invite anyone, living or deceased, to dinner, who would you invite? Make a list that includes at least three people you’d like to invite to dinner.Then use your list to print a message to each person, inviting them to dinner."
   ]
  },
  {
   "cell_type": "code",
   "execution_count": 4,
   "id": "d050dba2-26ab-4684-9cd3-83a2704e0dbc",
   "metadata": {},
   "outputs": [
    {
     "name": "stdout",
     "output_type": "stream",
     "text": [
      "Welcome, Mariyam! We are thrilled to have you with us\n",
      "Welcome, Meenal! We are thrilled to have you with us\n",
      "Welcome, Noreen! We are thrilled to have you with us\n"
     ]
    }
   ],
   "source": [
    "guest_list = ['Mariyam', 'Meenal', 'Noreen']\n",
    "\n",
    "for guest in guest_list:\n",
    "    print(f'Welcome, {guest}! We are thrilled to have you with us')\n"
   ]
  },
  {
   "cell_type": "markdown",
   "id": "2072d2bd-0b32-4279-ab13-81937639d948",
   "metadata": {},
   "source": [
    "### 4-2. Changing Guest List: You just heard that one of your guests can’t make the dinner, so you need to send out a new set of invitations. You’ll have to think of someone else to invite. \n",
    "###       • Start with your program from Exercise 4-1. Add a print statement at the end of your program stating the name of the guest who can’t make it. \n",
    "###       • Modify your list, replacing the name of the guest who can’t make it with the name of the new person you are inviting. \n",
    "###       • Print a second set of invitation messages, one for each person who is still in your list. "
   ]
  },
  {
   "cell_type": "code",
   "execution_count": 6,
   "id": "f9053b1e-783c-4dd1-944f-2c28f3a8a909",
   "metadata": {},
   "outputs": [
    {
     "data": {
      "text/plain": [
       "['Mariyam', 'Meenal', 'Noreen']"
      ]
     },
     "execution_count": 6,
     "metadata": {},
     "output_type": "execute_result"
    }
   ],
   "source": [
    "guest_list    "
   ]
  },
  {
   "cell_type": "code",
   "execution_count": 7,
   "id": "621436a1-731a-4800-8073-8714d282acd7",
   "metadata": {},
   "outputs": [
    {
     "name": "stdout",
     "output_type": "stream",
     "text": [
      "Noreen is not coming.\n",
      "\n",
      "['Mariyam', 'Meenal', 'Arisha']\n",
      "\n",
      "\n",
      "Hi Mariyam, you are still invited to the dinner!\n",
      "Hi Meenal, you are still invited to the dinner!\n",
      "Hi Arisha, you are still invited to the dinner!\n"
     ]
    }
   ],
   "source": [
    "unavailable_guest = guest_list[2]\n",
    "\n",
    "if unavailable_guest == 'Noreen':\n",
    "    print(f'{unavailable_guest} is not coming.\\n')\n",
    "    guest_list[2] = 'Arisha'\n",
    "else:\n",
    "    print('Thank you for coming!!\\n')\n",
    "\n",
    "print(guest_list)\n",
    "print('\\n')\n",
    "    \n",
    "for guest in guest_list:\n",
    "    print(f'Hi {guest}, you are still invited to the dinner!')"
   ]
  },
  {
   "cell_type": "markdown",
   "id": "d05529f1-7f03-400e-8819-649a26500176",
   "metadata": {},
   "source": [
    "### 4-3. More Guests: You just found a bigger dinner table, so now more space is available. Think of three more guests to invite to dinner.\n",
    "### • Start with your program from Exercise 4-1 or Exercise 4-2. Add a print statement to the end of your program informing people that you found a bigger dinner table. \n",
    "### • Use insert() to add one new guest to the beginning of your list. \n",
    "### • Use insert() to add one new guest to the middle of your list. \n",
    "### • Use append() to add one new guest to the end of your list. \n",
    "### • Print a new set of invitation messages, one for each person in your list"
   ]
  },
  {
   "cell_type": "code",
   "execution_count": 9,
   "id": "4e15580f-c172-444a-ace1-64a9f49daac1",
   "metadata": {},
   "outputs": [
    {
     "data": {
      "text/plain": [
       "['Mariyam', 'Meenal', 'Arisha']"
      ]
     },
     "execution_count": 9,
     "metadata": {},
     "output_type": "execute_result"
    }
   ],
   "source": [
    "guest_list"
   ]
  },
  {
   "cell_type": "code",
   "execution_count": 10,
   "id": "bd8b647a-f7e2-46bc-82ee-cce3ef5f294f",
   "metadata": {},
   "outputs": [],
   "source": [
    "# add one new guest to the beginning of your list.\n",
    "guest_list.insert(0, 'Sameen')"
   ]
  },
  {
   "cell_type": "code",
   "execution_count": 11,
   "id": "5e4d5329-ad4e-45f2-a63d-f948cb7f79c3",
   "metadata": {},
   "outputs": [
    {
     "data": {
      "text/plain": [
       "['Sameen', 'Mariyam', 'Meenal', 'Arisha']"
      ]
     },
     "execution_count": 11,
     "metadata": {},
     "output_type": "execute_result"
    }
   ],
   "source": [
    "guest_list"
   ]
  },
  {
   "cell_type": "code",
   "execution_count": 12,
   "id": "0c40bc6e-93af-45c5-989d-daadc938e218",
   "metadata": {},
   "outputs": [],
   "source": [
    "# add one new guest to the middle of your list. \n",
    "guest_list.insert(2, 'Saba')"
   ]
  },
  {
   "cell_type": "code",
   "execution_count": 13,
   "id": "3f7ac258-6168-4eeb-af7e-d7a502535a9f",
   "metadata": {},
   "outputs": [
    {
     "data": {
      "text/plain": [
       "['Sameen', 'Mariyam', 'Saba', 'Meenal', 'Arisha']"
      ]
     },
     "execution_count": 13,
     "metadata": {},
     "output_type": "execute_result"
    }
   ],
   "source": [
    "guest_list"
   ]
  },
  {
   "cell_type": "code",
   "execution_count": 14,
   "id": "e9efa69f-a0a1-46a1-a311-8263e6b548a8",
   "metadata": {},
   "outputs": [],
   "source": [
    "# add one new guest to the end of your list. \n",
    "guest_list.append('Saba')"
   ]
  },
  {
   "cell_type": "code",
   "execution_count": 15,
   "id": "189113ad-6e70-4747-9b27-79fc3ab04c8f",
   "metadata": {},
   "outputs": [
    {
     "data": {
      "text/plain": [
       "['Sameen', 'Mariyam', 'Saba', 'Meenal', 'Arisha', 'Saba']"
      ]
     },
     "execution_count": 15,
     "metadata": {},
     "output_type": "execute_result"
    }
   ],
   "source": [
    "guest_list"
   ]
  },
  {
   "cell_type": "code",
   "execution_count": 16,
   "id": "f52c9092-6915-4542-a65b-14ddc96584fe",
   "metadata": {},
   "outputs": [
    {
     "name": "stdout",
     "output_type": "stream",
     "text": [
      "Welcome, Sameen! We are thrilled to have you with us.\n",
      "Welcome, Mariyam! We are thrilled to have you with us.\n",
      "Welcome, Saba! We are thrilled to have you with us.\n",
      "Welcome, Meenal! We are thrilled to have you with us.\n",
      "Welcome, Arisha! We are thrilled to have you with us.\n",
      "Welcome, Saba! We are thrilled to have you with us.\n"
     ]
    }
   ],
   "source": [
    "# Print a new set of invitation messages, one for each person in your list\n",
    "for guest in guest_list:\n",
    "    print(f'Welcome, {guest}! We are thrilled to have you with us.')"
   ]
  },
  {
   "cell_type": "markdown",
   "id": "804906c8-9b61-489d-9899-81f5da0e2fe6",
   "metadata": {},
   "source": [
    "### 4-4. Shrinking Guest List: You just found out that your new dinner table won’t arrive in time for the dinner, and you have space for only two guests. \n",
    "### •     Start with your program from Exercise 4-3. Add a new line that prints a message saying that you can invite only two people for dinner. \n",
    "### •     Use pop() to remove guests from your list one at a time until only two names remain in your list. Each time you pop a name from your list, print a message to that person letting them know you’re sorry you can’t invite them to dinner. \n",
    "### •     Print a message to each of the two people still on your list, letting them know they’re still invited. \n",
    "### •     Use del to remove the last two names from your list, so you have an empty list. Print your list to make sure you actually have an empty list at the end of your program."
   ]
  },
  {
   "cell_type": "code",
   "execution_count": 18,
   "id": "d3d3be4b-9cc9-4452-acb8-f741fce7c82c",
   "metadata": {},
   "outputs": [
    {
     "data": {
      "text/plain": [
       "['Sameen', 'Mariyam', 'Saba', 'Meenal', 'Arisha', 'Saba']"
      ]
     },
     "execution_count": 18,
     "metadata": {},
     "output_type": "execute_result"
    }
   ],
   "source": [
    "guest_list"
   ]
  },
  {
   "cell_type": "code",
   "execution_count": 19,
   "id": "11ba79fe-fea1-4f2e-86b9-888814b73d11",
   "metadata": {},
   "outputs": [
    {
     "name": "stdout",
     "output_type": "stream",
     "text": [
      "Only two people are invites for dinner.\n"
     ]
    }
   ],
   "source": [
    "# Add a new line that prints a message saying that you can invite only two people for dinner. \n",
    "print('Only two people are invites for dinner.')"
   ]
  },
  {
   "cell_type": "code",
   "execution_count": 20,
   "id": "bd3f010b-751a-4085-a994-f90ea502eff8",
   "metadata": {},
   "outputs": [
    {
     "name": "stdout",
     "output_type": "stream",
     "text": [
      "Sorry Saba, I can't invite you to dinner.\n",
      "\n",
      "Sorry Arisha, I can't invite you to dinner.\n",
      "\n",
      "Sorry Meenal, I can't invite you to dinner.\n",
      "\n",
      "Sorry Saba, I can't invite you to dinner.\n",
      "\n"
     ]
    }
   ],
   "source": [
    "# Use pop() to remove guests from your list one at a time until only two names remain in your list. \n",
    "# Each time you pop a name from your list, print a message to that person letting them know you’re sorry you can’t invite them to dinner. \n",
    "guest_list\n",
    "for _ in range(4):\n",
    "    removed_guest = guest_list.pop()\n",
    "    print(f\"Sorry {removed_guest}, I can't invite you to dinner.\\n\")"
   ]
  },
  {
   "cell_type": "code",
   "execution_count": 21,
   "id": "f7fcaf84-823a-4a32-8559-4ee326615543",
   "metadata": {},
   "outputs": [
    {
     "name": "stdout",
     "output_type": "stream",
     "text": [
      "Hi Sameen! you are still invited. Please join us.\n",
      "Hi Mariyam! you are still invited. Please join us.\n"
     ]
    }
   ],
   "source": [
    "# Print a message to each of the two people still on your list, letting them know they’re still invited. \n",
    "for guest in guest_list:\n",
    "    print(f'Hi {guest}! you are still invited. Please join us.')"
   ]
  },
  {
   "cell_type": "code",
   "execution_count": 22,
   "id": "abeed1a8-d3c3-4729-a3b7-34fa8acd342f",
   "metadata": {},
   "outputs": [
    {
     "data": {
      "text/plain": [
       "['Sameen', 'Mariyam']"
      ]
     },
     "execution_count": 22,
     "metadata": {},
     "output_type": "execute_result"
    }
   ],
   "source": [
    "guest_list"
   ]
  },
  {
   "cell_type": "code",
   "execution_count": 23,
   "id": "3e4abcc0-e676-4040-bf65-81f636675509",
   "metadata": {},
   "outputs": [],
   "source": [
    "# Use del to remove the last two names from your list, so you have an empty list. \n",
    "#guest_list.clear()\n",
    "del guest_list[0 : 2] "
   ]
  },
  {
   "cell_type": "code",
   "execution_count": 24,
   "id": "6e66f348-bc18-4223-8223-286f92e225e6",
   "metadata": {},
   "outputs": [
    {
     "data": {
      "text/plain": [
       "[]"
      ]
     },
     "execution_count": 24,
     "metadata": {},
     "output_type": "execute_result"
    }
   ],
   "source": [
    "#Print your list to make sure you actually have an empty list at the end of your program.\n",
    "guest_list"
   ]
  },
  {
   "cell_type": "markdown",
   "id": "522ac3f2-e77f-4869-a93c-8e9f23a8b525",
   "metadata": {},
   "source": [
    "### 4-5. Make an another list you wish and perform indexing and slicing operations on it. "
   ]
  },
  {
   "cell_type": "markdown",
   "id": "efbf1996-ffad-430e-a58b-d5d4d6f8ad72",
   "metadata": {},
   "source": [
    "## Nested List"
   ]
  },
  {
   "cell_type": "code",
   "execution_count": 27,
   "id": "ec1e2d74-2b6a-4ca8-93a0-e464d217a7a3",
   "metadata": {},
   "outputs": [
    {
     "data": {
      "text/plain": [
       "['Beef',\n",
       " 'Bread',\n",
       " 'Milk',\n",
       " ['Apples', 'Bananas', 'Oranges'],\n",
       " ['Carrots', 'Broccoli', 'Spinach']]"
      ]
     },
     "execution_count": 27,
     "metadata": {},
     "output_type": "execute_result"
    }
   ],
   "source": [
    "fruit_list = [\"Apples\", \"Bananas\", \"Oranges\"] \n",
    "vegetables_list = [\"Carrots\", \"Broccoli\", \"Spinach\"]\n",
    "\n",
    "grocery_list = [ \"Beef\",\"Bread\",\"Milk\", fruit_list, vegetables_list]\n",
    "grocery_list\n",
    "    \n"
   ]
  },
  {
   "cell_type": "code",
   "execution_count": 28,
   "id": "2b96560f-7fbc-4772-9124-93b8a5bd9b82",
   "metadata": {},
   "outputs": [
    {
     "data": {
      "text/plain": [
       "3"
      ]
     },
     "execution_count": 28,
     "metadata": {},
     "output_type": "execute_result"
    }
   ],
   "source": [
    "grocery_list.index(fruit_list)"
   ]
  },
  {
   "cell_type": "code",
   "execution_count": 29,
   "id": "c42bf707-ad23-4906-b7e7-7452019a12fa",
   "metadata": {},
   "outputs": [
    {
     "data": {
      "text/plain": [
       "['Apples', 'Bananas', 'Oranges']"
      ]
     },
     "execution_count": 29,
     "metadata": {},
     "output_type": "execute_result"
    }
   ],
   "source": [
    "grocery_list[3]"
   ]
  },
  {
   "cell_type": "code",
   "execution_count": 30,
   "id": "a6439fa2-8dc7-41e8-b170-9c42bc1d80f4",
   "metadata": {},
   "outputs": [
    {
     "data": {
      "text/plain": [
       "'Oranges'"
      ]
     },
     "execution_count": 30,
     "metadata": {},
     "output_type": "execute_result"
    }
   ],
   "source": [
    "grocery_list[3][-1]"
   ]
  },
  {
   "cell_type": "code",
   "execution_count": 31,
   "id": "43bef33a-42da-4185-b0c5-93fae171a46f",
   "metadata": {},
   "outputs": [
    {
     "data": {
      "text/plain": [
       "'Broccoli'"
      ]
     },
     "execution_count": 31,
     "metadata": {},
     "output_type": "execute_result"
    }
   ],
   "source": [
    "grocery_list[4][1]"
   ]
  },
  {
   "cell_type": "code",
   "execution_count": 32,
   "id": "7c2630ed-8d5b-4c09-a961-f197eb49335d",
   "metadata": {},
   "outputs": [],
   "source": [
    "grocery_list[-1].append('Cucumber')"
   ]
  },
  {
   "cell_type": "code",
   "execution_count": 33,
   "id": "efa9b3ea-cf31-4995-82a6-3a422ffc90fd",
   "metadata": {},
   "outputs": [
    {
     "data": {
      "text/plain": [
       "['Beef',\n",
       " 'Bread',\n",
       " 'Milk',\n",
       " ['Apples', 'Bananas', 'Oranges'],\n",
       " ['Carrots', 'Broccoli', 'Spinach', 'Cucumber']]"
      ]
     },
     "execution_count": 33,
     "metadata": {},
     "output_type": "execute_result"
    }
   ],
   "source": [
    "grocery_list"
   ]
  },
  {
   "cell_type": "code",
   "execution_count": 34,
   "id": "f1f39cdf-b790-4275-bc6d-b077589f9df6",
   "metadata": {},
   "outputs": [
    {
     "data": {
      "text/plain": [
       "'Broccoli'"
      ]
     },
     "execution_count": 34,
     "metadata": {},
     "output_type": "execute_result"
    }
   ],
   "source": [
    "grocery_list[4].pop(1)"
   ]
  },
  {
   "cell_type": "code",
   "execution_count": 35,
   "id": "9ce11927-3079-4bd2-bf31-412d270929fc",
   "metadata": {},
   "outputs": [
    {
     "data": {
      "text/plain": [
       "['Carrots', 'Spinach', 'Cucumber']"
      ]
     },
     "execution_count": 35,
     "metadata": {},
     "output_type": "execute_result"
    }
   ],
   "source": [
    "grocery_list[4]"
   ]
  },
  {
   "cell_type": "code",
   "execution_count": 36,
   "id": "8783654a-5d90-4196-af68-b910f35d3c8d",
   "metadata": {},
   "outputs": [
    {
     "data": {
      "text/plain": [
       "1"
      ]
     },
     "execution_count": 36,
     "metadata": {},
     "output_type": "execute_result"
    }
   ],
   "source": [
    "grocery_list.count('Milk')"
   ]
  },
  {
   "cell_type": "code",
   "execution_count": 37,
   "id": "bb73ec9d-5bb0-413c-a913-5d7576daa0ff",
   "metadata": {},
   "outputs": [],
   "source": [
    "grocery_list[3].insert(2, 'Mango')"
   ]
  },
  {
   "cell_type": "code",
   "execution_count": 38,
   "id": "18ef2308-5444-4c84-bb4b-edaf3e0559c2",
   "metadata": {},
   "outputs": [
    {
     "data": {
      "text/plain": [
       "['Apples', 'Bananas', 'Mango', 'Oranges']"
      ]
     },
     "execution_count": 38,
     "metadata": {},
     "output_type": "execute_result"
    }
   ],
   "source": [
    "grocery_list[3]"
   ]
  },
  {
   "cell_type": "code",
   "execution_count": 39,
   "id": "c3407b16-439f-4bb3-8847-9bf2c8576827",
   "metadata": {},
   "outputs": [],
   "source": [
    "grocery_list.append(['Tea', 'Rice', 'Spices'])"
   ]
  },
  {
   "cell_type": "code",
   "execution_count": 40,
   "id": "56312788-a9c4-4465-8f47-55302bb55146",
   "metadata": {},
   "outputs": [
    {
     "data": {
      "text/plain": [
       "['Beef',\n",
       " 'Bread',\n",
       " 'Milk',\n",
       " ['Apples', 'Bananas', 'Mango', 'Oranges'],\n",
       " ['Carrots', 'Spinach', 'Cucumber'],\n",
       " ['Tea', 'Rice', 'Spices']]"
      ]
     },
     "execution_count": 40,
     "metadata": {},
     "output_type": "execute_result"
    }
   ],
   "source": [
    "grocery_list"
   ]
  },
  {
   "cell_type": "code",
   "execution_count": 74,
   "id": "d38a3369-0f99-4083-8552-f24f11f0b717",
   "metadata": {},
   "outputs": [
    {
     "data": {
      "text/plain": [
       "['Beef', 'Milk', ['Carrots', 'Spinach', 'Cucumber']]"
      ]
     },
     "execution_count": 74,
     "metadata": {},
     "output_type": "execute_result"
    }
   ],
   "source": [
    "grocery_list[::2]"
   ]
  },
  {
   "cell_type": "code",
   "execution_count": 76,
   "id": "50bedd9f-1bcd-404d-b52e-32160e980458",
   "metadata": {},
   "outputs": [
    {
     "data": {
      "text/plain": [
       "['Bread', ['Apples', 'Bananas', 'Mango', 'Oranges'], ['Tea', 'Rice', 'Spices']]"
      ]
     },
     "execution_count": 76,
     "metadata": {},
     "output_type": "execute_result"
    }
   ],
   "source": [
    "grocery_list[1::2]"
   ]
  },
  {
   "cell_type": "code",
   "execution_count": 78,
   "id": "aa322fff-c0a7-47a6-a94e-f1cefd2fd186",
   "metadata": {},
   "outputs": [],
   "source": [
    "grocery_list.reverse()"
   ]
  },
  {
   "cell_type": "code",
   "execution_count": 80,
   "id": "ca339cdf-2272-41ed-b7ac-af386a1ada8a",
   "metadata": {},
   "outputs": [
    {
     "data": {
      "text/plain": [
       "[['Tea', 'Rice', 'Spices'],\n",
       " ['Carrots', 'Spinach', 'Cucumber'],\n",
       " ['Apples', 'Bananas', 'Mango', 'Oranges'],\n",
       " 'Milk',\n",
       " 'Bread',\n",
       " 'Beef']"
      ]
     },
     "execution_count": 80,
     "metadata": {},
     "output_type": "execute_result"
    }
   ],
   "source": [
    "grocery_list"
   ]
  },
  {
   "cell_type": "code",
   "execution_count": 84,
   "id": "146dcff8-8400-4de0-adb3-eb624479d141",
   "metadata": {},
   "outputs": [
    {
     "data": {
      "text/plain": [
       "['Apples', 'Mango']"
      ]
     },
     "execution_count": 84,
     "metadata": {},
     "output_type": "execute_result"
    }
   ],
   "source": [
    "grocery_list[2][::2]"
   ]
  },
  {
   "cell_type": "code",
   "execution_count": 86,
   "id": "e7ae3167-06e0-4930-a554-97ab8339a7d7",
   "metadata": {},
   "outputs": [
    {
     "data": {
      "text/plain": [
       "[['Tea', 'Rice', 'Spices'],\n",
       " ['Carrots', 'Spinach', 'Cucumber'],\n",
       " ['Apples', 'Bananas', 'Mango', 'Oranges'],\n",
       " 'Milk',\n",
       " 'Bread',\n",
       " 'Beef']"
      ]
     },
     "execution_count": 86,
     "metadata": {},
     "output_type": "execute_result"
    }
   ],
   "source": [
    "grocery_list"
   ]
  },
  {
   "cell_type": "code",
   "execution_count": 88,
   "id": "74b1b7fe-79d6-4edc-bc6e-ae9404841702",
   "metadata": {},
   "outputs": [],
   "source": [
    "grocery_list.clear()"
   ]
  },
  {
   "cell_type": "code",
   "execution_count": 90,
   "id": "6a5eec9c-16ca-4f20-8a72-6c56f6ea2abd",
   "metadata": {},
   "outputs": [
    {
     "data": {
      "text/plain": [
       "[]"
      ]
     },
     "execution_count": 90,
     "metadata": {},
     "output_type": "execute_result"
    }
   ],
   "source": [
    "grocery_list"
   ]
  },
  {
   "cell_type": "code",
   "execution_count": null,
   "id": "526608a6-4d2b-4849-9b03-4d127125726e",
   "metadata": {},
   "outputs": [],
   "source": []
  }
 ],
 "metadata": {
  "kernelspec": {
   "display_name": "Python 3 (ipykernel)",
   "language": "python",
   "name": "python3"
  },
  "language_info": {
   "codemirror_mode": {
    "name": "ipython",
    "version": 3
   },
   "file_extension": ".py",
   "mimetype": "text/x-python",
   "name": "python",
   "nbconvert_exporter": "python",
   "pygments_lexer": "ipython3",
   "version": "3.12.4"
  }
 },
 "nbformat": 4,
 "nbformat_minor": 5
}
