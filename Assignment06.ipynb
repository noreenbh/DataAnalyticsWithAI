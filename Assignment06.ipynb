{
 "cells": [
  {
   "cell_type": "markdown",
   "id": "799ea0e4-e976-4119-bdf5-d23b6716bfed",
   "metadata": {},
   "source": [
    "### 1. Write a Python program to construct the following pattern, using a nested for loop.\n",
    "<p >\n",
    "    *<br>\n",
    "    **<br>\n",
    "    ***<br>\n",
    "    ****<br>\n",
    "    *****<br>\n",
    "    ****<br>\n",
    "    ***<br>\n",
    "    **<br>\n",
    "    *<br>\n",
    "</p>"
   ]
  },
  {
   "cell_type": "code",
   "execution_count": 1,
   "id": "03b66b03-9a9c-42ef-8f58-b4844e4c0993",
   "metadata": {},
   "outputs": [
    {
     "name": "stdout",
     "output_type": "stream",
     "text": [
      "*\n",
      "**\n",
      "***\n",
      "****\n",
      "*****\n",
      "****\n",
      "***\n",
      "**\n",
      "*\n"
     ]
    }
   ],
   "source": [
    "rows = 5\n",
    "for i in range(1,2 *rows):\n",
    "    if i <= rows:\n",
    "        for j in range(i):\n",
    "            print('*', end='')\n",
    "    else:\n",
    "        for j in range(2*rows-i):\n",
    "            print('*', end='')\n",
    "\n",
    "    print()"
   ]
  },
  {
   "cell_type": "code",
   "execution_count": 2,
   "id": "fd019582-f35f-447c-a5fd-d78c35b73a7a",
   "metadata": {},
   "outputs": [
    {
     "name": "stdout",
     "output_type": "stream",
     "text": [
      "*\n",
      "**\n",
      "***\n",
      "****\n",
      "*****\n",
      "****\n",
      "***\n",
      "**\n",
      "*\n"
     ]
    }
   ],
   "source": [
    "rows = 5\n",
    "for i in range(1,rows + 1):\n",
    "    for j in range(i):\n",
    "        print('*', end='')\n",
    "    print()    \n",
    "\n",
    "for i in range(rows - 1,0, -1):\n",
    "    for j in range(i):\n",
    "        print('*', end='')\n",
    "    print()  "
   ]
  },
  {
   "cell_type": "markdown",
   "id": "ee6eeae6-b645-4a30-89dc-16ded210a29b",
   "metadata": {},
   "source": [
    "### 2. Write a Python program to check whether an alphabet which is given by user in input prompt is a vowel or consonant."
   ]
  },
  {
   "cell_type": "code",
   "execution_count": 3,
   "id": "6a62c960-e07d-4809-b609-511399b5c6b9",
   "metadata": {},
   "outputs": [
    {
     "name": "stdin",
     "output_type": "stream",
     "text": [
      "Enter a single alphabet:  u\n"
     ]
    },
    {
     "name": "stdout",
     "output_type": "stream",
     "text": [
      "u is a vowel.\n"
     ]
    }
   ],
   "source": [
    "\n",
    "alphabet = input(\"Enter a single alphabet: \")\n",
    "\n",
    "# Check if the input is a single alphabet\n",
    "if len(alphabet) != 1 or not alphabet.isalpha():\n",
    "    print(\"Invalid input. Please enter a single alphabet.\")\n",
    "else:\n",
    "    # Define the vowels\n",
    "    vowels = 'aeiou'\n",
    "    \n",
    "    # Initialize a flag to check if the letter is a vowel\n",
    "    is_vowel = False\n",
    "    \n",
    "    # Use a for loop to check if the letter is a vowel\n",
    "    for vowel in vowels:\n",
    "        if alphabet == vowel:\n",
    "            is_vowel = True\n",
    "            break\n",
    "    \n",
    "    # Output the result\n",
    "    if is_vowel:\n",
    "        print(f\"{alphabet} is a vowel.\")\n",
    "    else:\n",
    "        print(f\"{alphabet} is a consonant.\")\n",
    "    \n"
   ]
  },
  {
   "cell_type": "markdown",
   "id": "6701f53f-c1b0-4c24-96fd-38211e7b0a27",
   "metadata": {},
   "source": [
    "### 3. Write a Python program to create the multiplication table (from 1 to 10) of a number and the number will be given by user in input prompt.\n",
    "Expected Output:\n",
    "\n",
    "Input a number: 6                                                      \n",
    "6 x 1 = 6                                                              \n",
    "6 x 2 = 12                                                              \n",
    "6 x 3 = 18                                                              \n",
    "6 x 4 = 24                                                              \n",
    "6 x 5 = 30                                                              \n",
    "6 x 6 = 36                                                              \n",
    "6 x 7 = 42                                                              \n",
    "6 x 8 = 48                                                              \n",
    "6 x 9 = 54                                                              \n",
    "6 x 10 = 60"
   ]
  },
  {
   "cell_type": "code",
   "execution_count": 4,
   "id": "61d3d3c7-d9fa-45a2-b3bf-0310133da3d2",
   "metadata": {},
   "outputs": [
    {
     "name": "stdin",
     "output_type": "stream",
     "text": [
      "Enter a number:  6\n"
     ]
    },
    {
     "name": "stdout",
     "output_type": "stream",
     "text": [
      "6 X 1 = 6\n",
      "6 X 2 = 12\n",
      "6 X 3 = 18\n",
      "6 X 4 = 24\n",
      "6 X 5 = 30\n",
      "6 X 6 = 36\n",
      "6 X 7 = 42\n",
      "6 X 8 = 48\n",
      "6 X 9 = 54\n",
      "6 X 10 = 60\n"
     ]
    }
   ],
   "source": [
    "num = int(input(\"Enter a number: \"))\n",
    "\n",
    "for i in range(1, 11):\n",
    "    print(f\"{num} X {i} = {num * i}\")"
   ]
  },
  {
   "cell_type": "markdown",
   "id": "4d1a5c52-1279-480b-bbe4-db3a7b8da3a0",
   "metadata": {},
   "source": [
    "### 4. Write a Python program to guess a number between 1 and 9.\n",
    "### Note : User is prompted to enter a guess. If the user guesses wrong then the prompt appears again until the guess is correct, on successful guess, user will get a \"Well guessed!\" message, and the program will exit."
   ]
  },
  {
   "cell_type": "code",
   "execution_count": 5,
   "id": "53ceeb03-bb54-4521-975c-5bd3bd049dfe",
   "metadata": {},
   "outputs": [
    {
     "name": "stdin",
     "output_type": "stream",
     "text": [
      "Guess a number between 1 - 9:  3\n"
     ]
    },
    {
     "name": "stdout",
     "output_type": "stream",
     "text": [
      "Correct\n"
     ]
    }
   ],
   "source": [
    "#lets take a number between 1 - 9\n",
    "num = 3\n",
    "\n",
    "while True:\n",
    "    guess_num = int(input(\"Guess a number between 1 - 9: \"))\n",
    "\n",
    "    if guess_num == num:\n",
    "        print(\"Correct\")\n",
    "        break\n",
    "    else:\n",
    "        print(\"Wrong, try again.\")\n",
    "    \n",
    "    "
   ]
  },
  {
   "cell_type": "markdown",
   "id": "d172d21d-c8c8-44d5-a5a1-fb2041459cbf",
   "metadata": {},
   "source": [
    "### 5. Write a  Python program to filter the height and width of students, which are stored in a dictionary.\n",
    "### Original Dictionary:\n",
    "### {'Cierra Vega': (6.2, 70), 'Alden Cantrell': (5.9, 65), 'Kierra Gentry': (6.0, 68), 'Pierre Cox': (5.8, 66)}\n",
    "### Height > 6ft and Weight> 70kg:\n",
    "### {'Cierra Vega': (6.2, 70)}"
   ]
  },
  {
   "cell_type": "code",
   "execution_count": null,
   "id": "a46cdbe0-8467-4cb7-9498-1d39f61b1ae4",
   "metadata": {},
   "outputs": [],
   "source": [
    "\n",
    "    "
   ]
  },
  {
   "cell_type": "code",
   "execution_count": 6,
   "id": "d814e4d9-c499-435b-b036-9aafabd2ccd1",
   "metadata": {},
   "outputs": [
    {
     "name": "stdout",
     "output_type": "stream",
     "text": [
      "Checking Cierra Vega: Height = 6.2, Weight = 70\n",
      "Checking Alden Cantrell: Height = 5.9, Weight = 65\n",
      "Checking Kierra Gentry: Height = 6.0, Weight = 68\n",
      "Checking Pierre Cox: Height = 5.8, Weight = 66\n",
      "\n",
      "Original Dictionary\n",
      "{'Cierra Vega': (6.2, 70), 'Alden Cantrell': (5.9, 65), 'Kierra Gentry': (6.0, 68), 'Pierre Cox': (5.8, 66)}\n",
      "\n",
      "Student having height > 6ft and weight > 70kg\n",
      "{}\n"
     ]
    }
   ],
   "source": [
    "original_dic = {'Cierra Vega': (6.2, 70), \n",
    "                 'Alden Cantrell': (5.9, 65), \n",
    "                 'Kierra Gentry': (6.0, 68), \n",
    "                 'Pierre Cox': (5.8, 66)}\n",
    "\n",
    "filtered_student = {}\n",
    "\n",
    "for name, (height, weight) in original_dic.items():\n",
    "    print(f\"Checking {name}: Height = {height}, Weight = {weight}\")\n",
    "    \n",
    "    if height > 6 and weight > 70:\n",
    "        filtered_student[name] = (height, weight)\n",
    "\n",
    "print(\"\\nOriginal Dictionary\")\n",
    "print(original_dic)\n",
    "\n",
    "print(\"\\nStudent having height > 6ft and weight > 70kg\")\n",
    "print(filtered_student)"
   ]
  },
  {
   "cell_type": "code",
   "execution_count": 7,
   "id": "736bbe05-e31d-4e1d-a9c0-5f05be36dc3c",
   "metadata": {},
   "outputs": [
    {
     "name": "stdout",
     "output_type": "stream",
     "text": [
      "Checking Cierra Vega: Height = 6.2, Weight = 70\n",
      "Checking Alden Cantrell: Height = 5.9, Weight = 65\n",
      "Checking Kierra Gentry: Height = 6.0, Weight = 68\n",
      "Checking Pierre Cox: Height = 5.8, Weight = 66\n",
      "Original Dictionary:\n",
      "{'Cierra Vega': (6.2, 70), 'Alden Cantrell': (5.9, 65), 'Kierra Gentry': (6.0, 68), 'Pierre Cox': (5.8, 66)}\n",
      "\n",
      "Student having height >= 6ft and weight >= 70kg:\n",
      "{'Cierra Vega': (6.2, 70)}\n"
     ]
    }
   ],
   "source": [
    "# Original dictionary\n",
    "students = {\n",
    "    'Cierra Vega': (6.2, 70),\n",
    "    'Alden Cantrell': (5.9, 65),\n",
    "    'Kierra Gentry': (6.0, 68),\n",
    "    'Pierre Cox': (5.8, 66)\n",
    "}\n",
    "\n",
    "filtered_students = {}\n",
    "\n",
    "# Loop through the original dictionary\n",
    "for name, (height, weight) in students.items():\n",
    "# Print the current student's height and weight for debugging\n",
    "    print(f\"Checking {name}: Height = {height}, Weight = {weight}\")\n",
    "    \n",
    "# Check if the height is greater than or equal to 6 feet and weight is greater than or equal to 70 kg\n",
    "    if height >= 6 and weight >= 70:\n",
    "# Add the item to the filtered dictionary\n",
    "        filtered_students[name] = (height, weight)\n",
    "\n",
    "# Print the original dictionary\n",
    "print(\"Original Dictionary:\")\n",
    "print(students)\n",
    "\n",
    "# Print the filtered dictionary\n",
    "print(\"\\nStudent having height >= 6ft and weight >= 70kg:\")\n",
    "print(filtered_students)\n"
   ]
  },
  {
   "cell_type": "markdown",
   "id": "4beeaab8-ab53-46de-9f56-1bba00bc5985",
   "metadata": {},
   "source": [
    "### 6. A  Python dictionary contains List as a value. Write a Python program to clear the list values inside the dictionary.\n",
    "### Original Dictionary:\n",
    "### {'C1': [10, 20, 30], 'C2': [20, 30, 40], 'C3': [12, 34]}\n",
    "### Clear the list values inside the dictionary:\n",
    "### {'C1': [], 'C2': [], 'C3': []}"
   ]
  },
  {
   "cell_type": "code",
   "execution_count": 8,
   "id": "1b991cc3-8046-43f6-9743-14500439cbc3",
   "metadata": {},
   "outputs": [
    {
     "name": "stdout",
     "output_type": "stream",
     "text": [
      "Cleared list inside the dictionary : {'C1': [], 'C2': [], 'C3': []}\n"
     ]
    }
   ],
   "source": [
    "#Original dictionary\n",
    "originat_dic1 = {'C1': [10, 20, 30], 'C2': [20, 30, 40], 'C3': [12, 34]}\n",
    "\n",
    "for key in original_dic:\n",
    "    original_dic1[key] = []\n",
    "print(f\"Cleared list inside the dictionary : {original_dic1}\")"
   ]
  },
  {
   "cell_type": "markdown",
   "id": "5834980a-6b36-4796-b509-45e8a171e3dc",
   "metadata": {},
   "source": [
    "### 7.  Rivers: Make a dictionary containing three major rivers and the country each river runs through. One key-value pair might be 'nile': 'egypt'.\n",
    "###     • Use a loop to print a sentence about each river, such as The Nile runs through Egypt.\n",
    "###     • Use a loop to print the name of each river included in the dictionary.\n",
    "###     • Use a loop to print the name of each country included in the dictionary."
   ]
  },
  {
   "cell_type": "code",
   "execution_count": 9,
   "id": "aa0cf611-0fe2-4e16-b258-f4177a82a8cf",
   "metadata": {},
   "outputs": [
    {
     "name": "stdout",
     "output_type": "stream",
     "text": [
      "Rivers and the countries they run through:\n",
      "The Nile runs through Egypt.\n",
      "The Indus runs through Pakistan.\n",
      "The Ravi runs through India.\n",
      "The Solo runs through Indonesia.\n",
      "The Farah runs through Iran.\n",
      "\n",
      "Rivers included in the dictionary:\n",
      "Nile\n",
      "Indus\n",
      "Ravi\n",
      "Solo\n",
      "Farah\n",
      "\n",
      "Countries included in the dictionary:\n",
      "Egypt\n",
      "Pakistan\n",
      "India\n",
      "Indonesia\n",
      "Iran\n"
     ]
    }
   ],
   "source": [
    "rivers = {\n",
    "    'Nile': 'Egypt',\n",
    "    'Indus': 'Pakistan',\n",
    "    'Ravi': 'India',\n",
    "    'Solo': 'Indonesia',\n",
    "    'Farah': 'Iran',}\n",
    "\n",
    "#Print a sentence about each river and the country it runs through\n",
    "print(\"Rivers and the countries they run through:\")\n",
    "for river, country in rivers.items():\n",
    "    print(f\"The {river} runs through {country}.\")\n",
    "\n",
    "#Print the name of each river included in the dictionary\n",
    "print(\"\\nRivers included in the dictionary:\")\n",
    "for river in rivers:\n",
    "    print(river)\n",
    "\n",
    "#Print the name of each country included in the dictionary\n",
    "print(\"\\nCountries included in the dictionary:\")\n",
    "for country in rivers.values():\n",
    "    print(country)"
   ]
  },
  {
   "cell_type": "markdown",
   "id": "dcbf03f1-c056-489a-a6a7-750b966eebae",
   "metadata": {},
   "source": [
    "### 8. Movie Tickets: A movie theater charges different ticket prices depending on a person’s age. If a person is under the age of 3, the ticket is free; if they are\n",
    "### between 3 and 12, the ticket is 10 dollars and if they are over age 12, the ticket ism$15. Write a loop in which you ask users their age, and then tell them the cost of their movie ticket."
   ]
  },
  {
   "cell_type": "code",
   "execution_count": 10,
   "id": "e2541139-376a-4655-b771-21b7845c612d",
   "metadata": {},
   "outputs": [
    {
     "name": "stdin",
     "output_type": "stream",
     "text": [
      "Please enter your age (or type 'quit' to exit):  20\n"
     ]
    },
    {
     "name": "stdout",
     "output_type": "stream",
     "text": [
      "Your movie ticket costs $15.\n",
      "\n"
     ]
    },
    {
     "name": "stdin",
     "output_type": "stream",
     "text": [
      "Please enter your age (or type 'quit' to exit):  15\n"
     ]
    },
    {
     "name": "stdout",
     "output_type": "stream",
     "text": [
      "Your movie ticket costs $15.\n",
      "\n"
     ]
    },
    {
     "name": "stdin",
     "output_type": "stream",
     "text": [
      "Please enter your age (or type 'quit' to exit):  12\n"
     ]
    },
    {
     "name": "stdout",
     "output_type": "stream",
     "text": [
      "Your movie ticket costs $10.\n",
      "\n"
     ]
    },
    {
     "name": "stdin",
     "output_type": "stream",
     "text": [
      "Please enter your age (or type 'quit' to exit):  6\n"
     ]
    },
    {
     "name": "stdout",
     "output_type": "stream",
     "text": [
      "Your movie ticket costs $10.\n",
      "\n"
     ]
    },
    {
     "name": "stdin",
     "output_type": "stream",
     "text": [
      "Please enter your age (or type 'quit' to exit):  5\n"
     ]
    },
    {
     "name": "stdout",
     "output_type": "stream",
     "text": [
      "Your movie ticket costs $10.\n",
      "\n"
     ]
    },
    {
     "name": "stdin",
     "output_type": "stream",
     "text": [
      "Please enter your age (or type 'quit' to exit):  4\n"
     ]
    },
    {
     "name": "stdout",
     "output_type": "stream",
     "text": [
      "Your movie ticket costs $10.\n",
      "\n"
     ]
    },
    {
     "name": "stdin",
     "output_type": "stream",
     "text": [
      "Please enter your age (or type 'quit' to exit):  exit\n"
     ]
    },
    {
     "ename": "ValueError",
     "evalue": "invalid literal for int() with base 10: 'exit'",
     "output_type": "error",
     "traceback": [
      "\u001b[1;31m---------------------------------------------------------------------------\u001b[0m",
      "\u001b[1;31mValueError\u001b[0m                                Traceback (most recent call last)",
      "Cell \u001b[1;32mIn[10], line 10\u001b[0m\n\u001b[0;32m      7\u001b[0m     \u001b[38;5;28;01mbreak\u001b[39;00m\n\u001b[0;32m      9\u001b[0m \u001b[38;5;66;03m# Convert the input to an integer\u001b[39;00m\n\u001b[1;32m---> 10\u001b[0m age \u001b[38;5;241m=\u001b[39m \u001b[38;5;28mint\u001b[39m(age_input)\n\u001b[0;32m     12\u001b[0m \u001b[38;5;66;03m# Determine the ticket price based on age\u001b[39;00m\n\u001b[0;32m     13\u001b[0m \u001b[38;5;28;01mif\u001b[39;00m age \u001b[38;5;241m<\u001b[39m \u001b[38;5;241m3\u001b[39m:\n",
      "\u001b[1;31mValueError\u001b[0m: invalid literal for int() with base 10: 'exit'"
     ]
    }
   ],
   "source": [
    "while True:\n",
    "    #user's age\n",
    "    age_input = input(\"Please enter your age (or type 'quit' to exit): \")\n",
    "    \n",
    "    # Check if the user wants to quit\n",
    "    if age_input.lower() == 'quit':\n",
    "        break\n",
    "\n",
    "    # Convert the input to an integer\n",
    "    age = int(age_input)\n",
    "\n",
    "    # Determine the ticket price based on age\n",
    "    if age < 3:\n",
    "        price = \"free\"\n",
    "    elif 3 <= age <= 12:\n",
    "        price = \"$10\"\n",
    "    else:\n",
    "        price = \"$15\"\n",
    "    \n",
    "    # Print the ticket price\n",
    "    print(f\"Your movie ticket costs {price}.\\n\")"
   ]
  },
  {
   "cell_type": "code",
   "execution_count": null,
   "id": "680d2456-060f-4c59-ab9d-4c9e7e0afd7a",
   "metadata": {},
   "outputs": [],
   "source": []
  }
 ],
 "metadata": {
  "kernelspec": {
   "display_name": "Python 3 (ipykernel)",
   "language": "python",
   "name": "python3"
  },
  "language_info": {
   "codemirror_mode": {
    "name": "ipython",
    "version": 3
   },
   "file_extension": ".py",
   "mimetype": "text/x-python",
   "name": "python",
   "nbconvert_exporter": "python",
   "pygments_lexer": "ipython3",
   "version": "3.12.4"
  }
 },
 "nbformat": 4,
 "nbformat_minor": 5
}
