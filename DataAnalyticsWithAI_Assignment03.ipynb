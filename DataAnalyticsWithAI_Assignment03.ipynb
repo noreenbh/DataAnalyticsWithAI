{
 "cells": [
  {
   "cell_type": "markdown",
   "id": "18207983-93f6-4fde-bb23-5ef8e27d1668",
   "metadata": {},
   "source": [
    "# Python Programming Language \r\n",
    "Assignmn # 3"
   ]
  },
  {
   "cell_type": "markdown",
   "id": "04061296-389c-4e30-b1c5-523fea038178",
   "metadata": {},
   "source": [
    "### 1. Write a Python program to print the following string in a specific format (see the \n",
    "output)\n",
    "       \n",
    "\r\n",
    "Twinkle, twinkle, little sta                r,\r\n",
    "How I wonder what you a                    re!\r\n",
    "Up above the world so h                    igh,\r\n",
    "Like a diamond in th\n",
    "       sky.\r\n",
    "\r\n",
    "Twinkle, twinkle, littl                e star,\r\n",
    "How I wonder what you are"
   ]
  },
  {
   "cell_type": "code",
   "execution_count": 1,
   "id": "912b0a95-7cf3-4a24-94eb-3424119cefd2",
   "metadata": {},
   "outputs": [
    {
     "name": "stdout",
     "output_type": "stream",
     "text": [
      "Twinkle, twinkle, little star, \n",
      "         How I wonder what you are! \n",
      "                Up above the world so high, \n",
      "                Like a diamond in the sky.\n",
      "Twinkle, twinkle, little star, \n",
      "         How I wonder what you are\n"
     ]
    }
   ],
   "source": [
    "print(\"\"\"Twinkle, twinkle, little star, \n",
    "         How I wonder what you are! \n",
    "                Up above the world so high, \n",
    "                Like a diamond in the sky.\n",
    "Twinkle, twinkle, little star, \n",
    "         How I wonder what you are\"\"\")"
   ]
  },
  {
   "cell_type": "markdown",
   "id": "cd84f362-8762-451f-86a4-b0805b4119dc",
   "metadata": {},
   "source": [
    "### 2. Write a Python program to get the Python version you are using"
   ]
  },
  {
   "cell_type": "code",
   "execution_count": 2,
   "id": "5930747a-bf16-4dc0-b0f2-72bd311901e8",
   "metadata": {},
   "outputs": [
    {
     "name": "stdout",
     "output_type": "stream",
     "text": [
      "3.11.5 (tags/v3.11.5:cce6ba9, Aug 24 2023, 14:38:34) [MSC v.1936 64 bit (AMD64)]\n"
     ]
    }
   ],
   "source": [
    "import sys\n",
    "\n",
    "pythonVersion = sys.version\n",
    "print(pythonVersion)"
   ]
  },
  {
   "cell_type": "markdown",
   "id": "5d77ea87-58d2-4d14-b340-dcc400b8a023",
   "metadata": {},
   "source": [
    "### 3. Write a Python program to display the current date and time."
   ]
  },
  {
   "cell_type": "code",
   "execution_count": 3,
   "id": "d962dae3-ce21-4de1-9364-e8d749cc53de",
   "metadata": {},
   "outputs": [
    {
     "name": "stdout",
     "output_type": "stream",
     "text": [
      "2024-08-02 23:40:11\n"
     ]
    }
   ],
   "source": [
    "import datetime\n",
    "\n",
    "current_date_time = datetime.datetime.now()\n",
    "datetime = current_date_time.strftime(\"%Y-%m-%d %H:%M:%S\")\n",
    "print(datetime)"
   ]
  },
  {
   "cell_type": "markdown",
   "id": "e635b924-f5bb-4f90-9fd5-cf4e77d1c432",
   "metadata": {},
   "source": [
    "### Write a Python program which accepts the radius of a circle from the user and compute \n",
    "the area."
   ]
  },
  {
   "cell_type": "code",
   "execution_count": 4,
   "id": "3169a80d-3976-4fc6-943a-496e4f50be0c",
   "metadata": {},
   "outputs": [
    {
     "name": "stdin",
     "output_type": "stream",
     "text": [
      "Enter the radius of circle: 5.6\n"
     ]
    },
    {
     "name": "stdout",
     "output_type": "stream",
     "text": [
      "Area of a Circle is :  98.4704\n"
     ]
    }
   ],
   "source": [
    "PI = 3.14\n",
    "radius = float(input('Enter the radius of circle:'))\n",
    "area   = PI * radius**2\n",
    "print(\"Area of a Circle is : \",area)"
   ]
  },
  {
   "cell_type": "markdown",
   "id": "3fd5495a-2a86-46f5-8847-bae9c0fede98",
   "metadata": {},
   "source": [
    "### 5. Write a Python program which accepts the user's first and last name and print them in \n",
    "reverse order with a space between them."
   ]
  },
  {
   "cell_type": "code",
   "execution_count": 5,
   "id": "1ca65872-ea96-4713-83c5-1baa06923d8f",
   "metadata": {},
   "outputs": [
    {
     "name": "stdin",
     "output_type": "stream",
     "text": [
      "First Name:  Imran\n",
      "Last Name:  Khan\n"
     ]
    },
    {
     "name": "stdout",
     "output_type": "stream",
     "text": [
      "Khan Imran\n"
     ]
    }
   ],
   "source": [
    "FirstName = input('First Name: ')\n",
    "LastName = input('Last Name: ')\n",
    "reverseName = print(LastName + \" \" + FirstName)\n"
   ]
  },
  {
   "cell_type": "markdown",
   "id": "d0dcc106-1d84-4c2f-b6ae-c9f690fbf0ba",
   "metadata": {},
   "source": [
    "### 6. Write a python program which takes two inputs from user and print them addition"
   ]
  },
  {
   "cell_type": "code",
   "execution_count": 6,
   "id": "a13678d7-6fb3-4172-b145-94ce11023585",
   "metadata": {},
   "outputs": [
    {
     "name": "stdin",
     "output_type": "stream",
     "text": [
      "Enter a number :  745\n",
      "Enter another number :  658\n"
     ]
    },
    {
     "name": "stdout",
     "output_type": "stream",
     "text": [
      "The addition of input is : 1403\n"
     ]
    }
   ],
   "source": [
    "num1 = int(input('Enter a number : '))\n",
    "num2 = int(input('Enter another number : '))\n",
    "add = num1 + num2\n",
    "print(f\"The addition of input is : {add}\")"
   ]
  },
  {
   "cell_type": "markdown",
   "id": "6b988c51-7720-4eb0-935e-ffeec4ce06df",
   "metadata": {},
   "source": [
    "### 7. Write a program which takes 5 inputs from user for different subject’s marks, total it \n",
    "and generate mark sheet using grades ?"
   ]
  },
  {
   "cell_type": "code",
   "execution_count": 7,
   "id": "e2bf1df3-8287-4ded-9dd8-3df23d47aad5",
   "metadata": {},
   "outputs": [
    {
     "name": "stdin",
     "output_type": "stream",
     "text": [
      "Enter marks for Statistics:  78\n",
      "Enter marks for Software Engineering:  81\n",
      "Enter marks for Programming Fundamental:  79\n",
      "Enter marks for Digital Logic and Design:  88\n",
      "Enter marks for Big Data Analytics:  90\n"
     ]
    },
    {
     "name": "stdout",
     "output_type": "stream",
     "text": [
      "\n",
      "Mark Sheet\n",
      "----------\n",
      "Statistics: 78.0\n",
      "Software Engineering: 81.0\n",
      "Programming Fundamental: 79.0\n",
      "Digital Logic and Design: 88.0\n",
      "Big Data Analytics: 90.0\n",
      "Total Marks: 416.0\n",
      "Percentage: 83.20%\n",
      "Grade: A\n"
     ]
    }
   ],
   "source": [
    "def calculate_grade(percentage):\n",
    "  #Calculates the grade based on the percentage.\n",
    "  if percentage >= 90:\n",
    "    return 'A+'\n",
    "  elif percentage >= 80:\n",
    "    return 'A'\n",
    "  elif percentage >= 70:\n",
    "    return 'B'\n",
    "  elif percentage >= 60:\n",
    "    return 'C'\n",
    "  else:\n",
    "    return 'F'\n",
    "\n",
    "def main():\n",
    "  #Main function to take input, calculate total, percentage, and grade.\n",
    "  subjects = ['Statistics', 'Software Engineering', 'Programming Fundamental', 'Digital Logic and Design', 'Big Data Analytics']\n",
    "  marks = []\n",
    "\n",
    "  for subject in subjects:\n",
    "    mark = float(input(f\"Enter marks for {subject}: \"))\n",
    "    marks.append(mark)\n",
    "\n",
    "  total_marks = sum(marks)\n",
    "  percentage = (total_marks / (len(subjects) * 100)) * 100\n",
    "  grade = calculate_grade(percentage)\n",
    "\n",
    "  print(\"\\nMark Sheet\")\n",
    "  print(\"----------\")\n",
    "  for i in range(len(subjects)):\n",
    "    print(f\"{subjects[i]}: {marks[i]}\")\n",
    "  print(f\"Total Marks: {total_marks}\")\n",
    "  print(f\"Percentage: {percentage:.2f}%\")\n",
    "  print(f\"Grade: {grade}\")\n",
    "\n",
    "if __name__ == \"__main__\":\n",
    "  main()\n"
   ]
  },
  {
   "cell_type": "markdown",
   "id": "591b0efb-5a20-482a-a4bb-98078ad8cc16",
   "metadata": {},
   "source": [
    "### 8. Write a program which take input from user and identify that the given number is even \n",
    "or odd?"
   ]
  },
  {
   "cell_type": "code",
   "execution_count": 8,
   "id": "29a0c663-271e-4bd6-a2f2-6f3c4b3e129b",
   "metadata": {},
   "outputs": [
    {
     "name": "stdin",
     "output_type": "stream",
     "text": [
      "Enter a number =  4856\n"
     ]
    },
    {
     "name": "stdout",
     "output_type": "stream",
     "text": [
      "Even\n"
     ]
    }
   ],
   "source": [
    "num = int(input('Enter a number = '))\n",
    "if num % 2 == 0:\n",
    "    print(\"Even\")\n",
    "else:\n",
    "    print(\"Odd\")\n"
   ]
  },
  {
   "cell_type": "markdown",
   "id": "3cc81dd6-6b1d-4155-baa4-a2f6e3089cb6",
   "metadata": {},
   "source": [
    "### 9.Write a program which print the length of the list?"
   ]
  },
  {
   "cell_type": "code",
   "execution_count": 9,
   "id": "8791c57b-5e4f-423d-b611-cff0a75e1b29",
   "metadata": {},
   "outputs": [
    {
     "data": {
      "text/plain": [
       "13"
      ]
     },
     "execution_count": 9,
     "metadata": {},
     "output_type": "execute_result"
    }
   ],
   "source": [
    "list = [12,478,586,215,245,58,55,51,8995,5446,3554,878,4875]\n",
    "len(list)"
   ]
  },
  {
   "cell_type": "markdown",
   "id": "dcdef36d-3aa4-4a77-82b4-b056547b4559",
   "metadata": {},
   "source": [
    "### 10.Write a Python program to sum all the numeric items in a list?"
   ]
  },
  {
   "cell_type": "code",
   "execution_count": 10,
   "id": "017e1edc-b7b2-41be-865f-074d7c3caf09",
   "metadata": {},
   "outputs": [
    {
     "data": {
      "text/plain": [
       "25448"
      ]
     },
     "execution_count": 10,
     "metadata": {},
     "output_type": "execute_result"
    }
   ],
   "source": [
    "sum(list)"
   ]
  },
  {
   "cell_type": "markdown",
   "id": "d3e2dc2c-73b6-4009-9b9d-e26c721f8b2e",
   "metadata": {},
   "source": [
    "### 11.Write a Python program to get the largest number from a numeric list."
   ]
  },
  {
   "cell_type": "code",
   "execution_count": 11,
   "id": "337431a9-d6dc-4113-aa50-b5db3ddbd9d6",
   "metadata": {},
   "outputs": [
    {
     "data": {
      "text/plain": [
       "8995"
      ]
     },
     "execution_count": 11,
     "metadata": {},
     "output_type": "execute_result"
    }
   ],
   "source": [
    "max(list)"
   ]
  },
  {
   "cell_type": "markdown",
   "id": "e9408c05-95d2-4cf4-832b-854e503bf4a0",
   "metadata": {},
   "source": [
    "### 12. Take a list, say for example this one:\r\n",
    "a = [1, 1, 2, 3, 5, 8, 13, 21, 34, 55, 89]\r\n",
    "Write a program that prints out all the elements of the list that are less than 5."
   ]
  },
  {
   "cell_type": "code",
   "execution_count": 12,
   "id": "621ec28f-db5d-4136-993d-b0bb6e80d49d",
   "metadata": {},
   "outputs": [
    {
     "name": "stdout",
     "output_type": "stream",
     "text": [
      "[1, 1, 2, 3]\n"
     ]
    }
   ],
   "source": [
    "a = [1, 1, 2, 3, 5, 8, 13, 21, 34, 55, 89]\n",
    "new_list = []\n",
    "for item in a:\n",
    "    if item < 5:\n",
    "        new_list.append(item)\n",
    "print(new_list)        "
   ]
  }
 ],
 "metadata": {
  "kernelspec": {
   "display_name": "Python 3 (ipykernel)",
   "language": "python",
   "name": "python3"
  },
  "language_info": {
   "codemirror_mode": {
    "name": "ipython",
    "version": 3
   },
   "file_extension": ".py",
   "mimetype": "text/x-python",
   "name": "python",
   "nbconvert_exporter": "python",
   "pygments_lexer": "ipython3",
   "version": "3.11.5"
  }
 },
 "nbformat": 4,
 "nbformat_minor": 5
}
