{
 "cells": [
  {
   "cell_type": "markdown",
   "id": "baee6450-b2c9-4361-88a9-4c85a2491c50",
   "metadata": {},
   "source": [
    "# Assignment 5"
   ]
  },
  {
   "cell_type": "markdown",
   "id": "7f67197a-2f8d-4262-8aeb-cb96f63dcfd3",
   "metadata": {},
   "source": [
    "## 1. You need to store and manage employee records where each record includes an employee's ID, name, and department. (Use tuples to represent each employee record)."
   ]
  },
  {
   "cell_type": "markdown",
   "id": "c064442f-210d-4a16-9d2b-7e58cfe31e98",
   "metadata": {},
   "source": [
    "### Creating Employee Records:"
   ]
  },
  {
   "cell_type": "code",
   "execution_count": 1,
   "id": "5a427c11-be6b-4617-b604-20e997bd0e35",
   "metadata": {},
   "outputs": [],
   "source": [
    "employee1 = (12345, \"Noor\", \"IT\")\n",
    "employee2 = (98765, \"Aina\", \"Sales\")\n",
    "employee3 = (45678, \"Ayana\", \"Marketing\")\n",
    "employee4 = (85426, \"Navera\", \"Administration\") "
   ]
  },
  {
   "cell_type": "markdown",
   "id": "66584c8a-806c-4c90-b0b4-52ed37979303",
   "metadata": {},
   "source": [
    "### Storing Multiple Recoeds:"
   ]
  },
  {
   "cell_type": "code",
   "execution_count": 2,
   "id": "b30f7561-829b-429c-8be5-33140cbfbce4",
   "metadata": {},
   "outputs": [],
   "source": [
    "employees_record = [(12345, \"Noor\", \"IT\"),\n",
    "                    (98765, \"Aina\", \"Sales\"),\n",
    "                    (45678, \"Ayana\", \"Marketing\"),\n",
    "                    (85426, \"Navera\", \"Administration\")] "
   ]
  },
  {
   "cell_type": "code",
   "execution_count": 3,
   "id": "9dafc79d-3240-44c4-a99e-dfcb947cbfa1",
   "metadata": {},
   "outputs": [
    {
     "data": {
      "text/plain": [
       "[(12345, 'Noor', 'IT'),\n",
       " (98765, 'Aina', 'Sales'),\n",
       " (45678, 'Ayana', 'Marketing'),\n",
       " (85426, 'Navera', 'Administration')]"
      ]
     },
     "execution_count": 3,
     "metadata": {},
     "output_type": "execute_result"
    }
   ],
   "source": [
    "employees_record"
   ]
  },
  {
   "cell_type": "markdown",
   "id": "b87417e7-a6ea-4e72-a171-ffe969b2181e",
   "metadata": {},
   "source": [
    "### Accessing employee's infromation"
   ]
  },
  {
   "cell_type": "code",
   "execution_count": 4,
   "id": "7bf58b57-8de4-45dc-a08e-730e745a6816",
   "metadata": {},
   "outputs": [
    {
     "data": {
      "text/plain": [
       "45678"
      ]
     },
     "execution_count": 4,
     "metadata": {},
     "output_type": "execute_result"
    }
   ],
   "source": [
    "employee_id = employees_record[2][0]\n",
    "employee_id"
   ]
  },
  {
   "cell_type": "code",
   "execution_count": 5,
   "id": "51c8934b-5882-4cd9-bd14-f176c702546c",
   "metadata": {},
   "outputs": [
    {
     "data": {
      "text/plain": [
       "'Ayana'"
      ]
     },
     "execution_count": 5,
     "metadata": {},
     "output_type": "execute_result"
    }
   ],
   "source": [
    "employee_name = employees_record[2][1]\n",
    "employee_name"
   ]
  },
  {
   "cell_type": "code",
   "execution_count": 6,
   "id": "e5007df4-cec0-4328-9421-afc58f89b28c",
   "metadata": {},
   "outputs": [
    {
     "data": {
      "text/plain": [
       "'Marketing'"
      ]
     },
     "execution_count": 6,
     "metadata": {},
     "output_type": "execute_result"
    }
   ],
   "source": [
    "employee_dep = employees_record[2][2]\n",
    "employee_dep"
   ]
  },
  {
   "cell_type": "code",
   "execution_count": 7,
   "id": "cad343bf-2005-4492-af34-0d84e9253adf",
   "metadata": {},
   "outputs": [
    {
     "data": {
      "text/plain": [
       "[(12345, 'Noor', 'IT'), (45678, 'Ayana', 'Marketing')]"
      ]
     },
     "execution_count": 7,
     "metadata": {},
     "output_type": "execute_result"
    }
   ],
   "source": [
    "employees_record[::2]"
   ]
  },
  {
   "cell_type": "code",
   "execution_count": 8,
   "id": "cf7d74c2-5bde-4cd6-ac7f-b374c2d1d9f0",
   "metadata": {},
   "outputs": [
    {
     "data": {
      "text/plain": [
       "[(45678, 'Ayana', 'Marketing')]"
      ]
     },
     "execution_count": 8,
     "metadata": {},
     "output_type": "execute_result"
    }
   ],
   "source": [
    "employees_record[2::2]"
   ]
  },
  {
   "cell_type": "markdown",
   "id": "613b4aa1-535e-4a05-aa8e-814d8266a00d",
   "metadata": {},
   "source": [
    "### Adding new employee"
   ]
  },
  {
   "cell_type": "code",
   "execution_count": 9,
   "id": "3c842a0f-a0af-4420-a7cb-7e87436c03fd",
   "metadata": {},
   "outputs": [],
   "source": [
    "new_employee = (89657, \"Naina\", \"HR\")\n",
    "employees_record.append(new_employee)"
   ]
  },
  {
   "cell_type": "code",
   "execution_count": 10,
   "id": "a7bb4bca-dbbb-4d9d-a00c-882561cf04e2",
   "metadata": {},
   "outputs": [
    {
     "data": {
      "text/plain": [
       "[(12345, 'Noor', 'IT'),\n",
       " (98765, 'Aina', 'Sales'),\n",
       " (45678, 'Ayana', 'Marketing'),\n",
       " (85426, 'Navera', 'Administration'),\n",
       " (89657, 'Naina', 'HR')]"
      ]
     },
     "execution_count": 10,
     "metadata": {},
     "output_type": "execute_result"
    }
   ],
   "source": [
    "employees_record"
   ]
  },
  {
   "cell_type": "markdown",
   "id": "cf22476b-104b-4484-98a5-38bf1aef0a73",
   "metadata": {},
   "source": [
    "## 2. You are managing an inventory system where each item has an item ID, description, and  quantity available (Use tuples to represent each inventory item)."
   ]
  },
  {
   "cell_type": "markdown",
   "id": "75412f95-eeec-4de0-9774-ae70cc3f53d2",
   "metadata": {},
   "source": [
    "### Creating Inventory Items"
   ]
  },
  {
   "cell_type": "code",
   "execution_count": 11,
   "id": "d1c60504-652c-42ab-9da0-77301d2e0b76",
   "metadata": {},
   "outputs": [],
   "source": [
    "item1 = (1001, \"Laptop\", 20)\n",
    "item2 = (2002, \"Smartphone\", 50)\n",
    "item3 = (3003, \"Headphones\", 35)\n",
    "item4 = (4004, \"Chargers\", 60)"
   ]
  },
  {
   "cell_type": "markdown",
   "id": "524a7e21-bb74-48a5-a31d-5f91e6247d60",
   "metadata": {},
   "source": [
    "### Storing items"
   ]
  },
  {
   "cell_type": "code",
   "execution_count": 12,
   "id": "9a161861-97f0-43a8-b04f-bb839f6487b7",
   "metadata": {},
   "outputs": [],
   "source": [
    "inventory = [(1001, \"Laptop\", 20),\n",
    "             (2002, \"Smartphone\", 50),\n",
    "             (3003, \"Headphones\", 35),\n",
    "             (4004, \"Chargers\", 60)]"
   ]
  },
  {
   "cell_type": "code",
   "execution_count": 13,
   "id": "57577e07-e3f5-4632-a8ad-d5a65e1b45a5",
   "metadata": {},
   "outputs": [
    {
     "data": {
      "text/plain": [
       "[(1001, 'Laptop', 20),\n",
       " (2002, 'Smartphone', 50),\n",
       " (3003, 'Headphones', 35),\n",
       " (4004, 'Chargers', 60)]"
      ]
     },
     "execution_count": 13,
     "metadata": {},
     "output_type": "execute_result"
    }
   ],
   "source": [
    "inventory"
   ]
  },
  {
   "cell_type": "markdown",
   "id": "9cadabc2-44d5-408d-a0a6-9c69ab5aed1f",
   "metadata": {},
   "source": [
    "### Accessing Item Information"
   ]
  },
  {
   "cell_type": "code",
   "execution_count": 14,
   "id": "13fd1a25-f984-41d7-9fef-572786afa456",
   "metadata": {},
   "outputs": [],
   "source": [
    "item_id = inventory[3][0]\n",
    "item_description = inventory[3][1]\n",
    "item_avaiable_quatity = inventory[3][2]"
   ]
  },
  {
   "cell_type": "code",
   "execution_count": 15,
   "id": "b4f35eb9-a1d6-4cb9-908c-49c215bb4e10",
   "metadata": {},
   "outputs": [
    {
     "data": {
      "text/plain": [
       "4004"
      ]
     },
     "execution_count": 15,
     "metadata": {},
     "output_type": "execute_result"
    }
   ],
   "source": [
    "item_id"
   ]
  },
  {
   "cell_type": "code",
   "execution_count": 16,
   "id": "bf087da1-3321-46dd-9189-77ca154db6ef",
   "metadata": {},
   "outputs": [
    {
     "data": {
      "text/plain": [
       "'Chargers'"
      ]
     },
     "execution_count": 16,
     "metadata": {},
     "output_type": "execute_result"
    }
   ],
   "source": [
    "item_description "
   ]
  },
  {
   "cell_type": "code",
   "execution_count": 17,
   "id": "1e0fa799-b238-4e12-8a02-8572080fa417",
   "metadata": {},
   "outputs": [
    {
     "data": {
      "text/plain": [
       "60"
      ]
     },
     "execution_count": 17,
     "metadata": {},
     "output_type": "execute_result"
    }
   ],
   "source": [
    "item_avaiable_quatity"
   ]
  },
  {
   "cell_type": "code",
   "execution_count": 18,
   "id": "fb0da4e6-ec9d-4dfd-acf3-be5ffe3b68eb",
   "metadata": {},
   "outputs": [
    {
     "name": "stdout",
     "output_type": "stream",
     "text": [
      "(1001, 'Laptop', 20)\n",
      "(2002, 'Smartphone', 50)\n",
      "(3003, 'Headphones', 35)\n",
      "(4004, 'Chargers', 60)\n"
     ]
    }
   ],
   "source": [
    "for item in inventory:\n",
    "    print(item)"
   ]
  },
  {
   "cell_type": "code",
   "execution_count": 19,
   "id": "b734896e-53a8-40b4-837e-2143666b5876",
   "metadata": {},
   "outputs": [
    {
     "name": "stdout",
     "output_type": "stream",
     "text": [
      "(4004, 'Chargers', 60)\n"
     ]
    }
   ],
   "source": [
    "if inventory[3][2] == 35:\n",
    "    print(inventory[3][1])\n",
    "elif inventory[2][2] == 35:\n",
    "    print(inventory[3])\n",
    "else:\n",
    "    print('Not item in inventory')"
   ]
  },
  {
   "cell_type": "code",
   "execution_count": 20,
   "id": "c0cb787b-2fc3-4695-b7bc-38b7d1cdbb77",
   "metadata": {},
   "outputs": [
    {
     "name": "stdout",
     "output_type": "stream",
     "text": [
      "Chargers\n"
     ]
    }
   ],
   "source": [
    "if inventory[3][2] == 60:\n",
    "    print(inventory[3][1])\n",
    "elif inventory[2][2] == 35:\n",
    "    print(inventory[3])\n",
    "else:\n",
    "    print('Not item in inventory')"
   ]
  },
  {
   "cell_type": "markdown",
   "id": "563adf18-ddb8-4407-90b7-a405cebe41ea",
   "metadata": {},
   "source": [
    "### Add new item"
   ]
  },
  {
   "cell_type": "code",
   "execution_count": 21,
   "id": "b7badd02-8a50-4a48-aa7e-b443584fbf21",
   "metadata": {},
   "outputs": [],
   "source": [
    "new_item = (7048, \"Smartphone Tripod Mount\", 45)\n",
    "inventory.append(new_item)"
   ]
  },
  {
   "cell_type": "code",
   "execution_count": 22,
   "id": "1e16df3f-8f41-43d7-b960-e6c300c2cafe",
   "metadata": {},
   "outputs": [
    {
     "data": {
      "text/plain": [
       "[(1001, 'Laptop', 20),\n",
       " (2002, 'Smartphone', 50),\n",
       " (3003, 'Headphones', 35),\n",
       " (4004, 'Chargers', 60),\n",
       " (7048, 'Smartphone Tripod Mount', 45)]"
      ]
     },
     "execution_count": 22,
     "metadata": {},
     "output_type": "execute_result"
    }
   ],
   "source": [
    "inventory"
   ]
  },
  {
   "cell_type": "markdown",
   "id": "ba97ce4d-4a2e-4bb3-bdf2-4732d934d42a",
   "metadata": {},
   "source": [
    "### Empty the Inventory"
   ]
  },
  {
   "cell_type": "code",
   "execution_count": 23,
   "id": "2bf078d9-936d-43f3-b089-37c4b0006b37",
   "metadata": {},
   "outputs": [],
   "source": [
    "inventory.clear()"
   ]
  },
  {
   "cell_type": "code",
   "execution_count": 24,
   "id": "4c44a19a-a1ec-48dc-9546-8f35127839e5",
   "metadata": {},
   "outputs": [
    {
     "data": {
      "text/plain": [
       "[]"
      ]
     },
     "execution_count": 24,
     "metadata": {},
     "output_type": "execute_result"
    }
   ],
   "source": [
    "inventory"
   ]
  },
  {
   "cell_type": "markdown",
   "id": "40786a5c-f4ad-4acd-9abb-f68161964b00",
   "metadata": {},
   "source": [
    "## 3. You need to store the dates and times of scheduled events, like meetings or appointments. (Use tuples to store date and time information)."
   ]
  },
  {
   "cell_type": "markdown",
   "id": "d81914e7-33c5-4044-a0b1-aba9503c772f",
   "metadata": {},
   "source": [
    "### Creating Events"
   ]
  },
  {
   "cell_type": "code",
   "execution_count": 25,
   "id": "c13acdac-4860-4a73-839a-5551e5b4b66a",
   "metadata": {},
   "outputs": [],
   "source": [
    "general_meeting = (\"15-08-2024\", \"11:00\")\n",
    "client_meeting = (\"15-08-2024\", \"13:30\")\n",
    "standup = (\"15-08-2024\", \"15:00\")"
   ]
  },
  {
   "cell_type": "markdown",
   "id": "57e5d908-a75e-47b3-93d3-1a9e9b4017dd",
   "metadata": {},
   "source": [
    "### Storing Events"
   ]
  },
  {
   "cell_type": "code",
   "execution_count": 26,
   "id": "c75c20c3-6cc3-4666-9e24-816259e87fe8",
   "metadata": {},
   "outputs": [],
   "source": [
    "meetings = [(\"15-08-2024\", \"11:00\"),\n",
    "            (\"15-08-2024\", \"13:30\"),\n",
    "            (\"15-08-2024\", \"15:00\")]"
   ]
  },
  {
   "cell_type": "code",
   "execution_count": 27,
   "id": "7fd14820-1654-42f8-9b6f-f4287f3c6819",
   "metadata": {},
   "outputs": [
    {
     "data": {
      "text/plain": [
       "[('15-08-2024', '11:00'), ('15-08-2024', '13:30'), ('15-08-2024', '15:00')]"
      ]
     },
     "execution_count": 27,
     "metadata": {},
     "output_type": "execute_result"
    }
   ],
   "source": [
    "meetings"
   ]
  },
  {
   "cell_type": "markdown",
   "id": "5683fc0e-2466-419e-8d89-5fd8239e2fdc",
   "metadata": {},
   "source": [
    "### Accessing the event"
   ]
  },
  {
   "cell_type": "code",
   "execution_count": 28,
   "id": "35b2cacf-ffe0-43e7-95fe-284a567686ab",
   "metadata": {},
   "outputs": [],
   "source": [
    "client = meetings[1][:]"
   ]
  },
  {
   "cell_type": "code",
   "execution_count": 29,
   "id": "dec63968-3fe8-4a0b-bf97-82ca41760ed7",
   "metadata": {},
   "outputs": [
    {
     "data": {
      "text/plain": [
       "('15-08-2024', '13:30')"
      ]
     },
     "execution_count": 29,
     "metadata": {},
     "output_type": "execute_result"
    }
   ],
   "source": [
    "client"
   ]
  },
  {
   "cell_type": "code",
   "execution_count": 30,
   "id": "1f5b77e1-859f-49cf-8158-7edfee3a21c7",
   "metadata": {},
   "outputs": [
    {
     "data": {
      "text/plain": [
       "('15-08-2024', '15:00')"
      ]
     },
     "execution_count": 30,
     "metadata": {},
     "output_type": "execute_result"
    }
   ],
   "source": [
    "stadup = meetings[2][:]\n",
    "standup"
   ]
  },
  {
   "cell_type": "code",
   "execution_count": 31,
   "id": "a14af912-c20d-4c9b-bc30-4e6f432e1602",
   "metadata": {},
   "outputs": [
    {
     "data": {
      "text/plain": [
       "[('15-08-2024', '11:00'), ('15-08-2024', '15:00')]"
      ]
     },
     "execution_count": 31,
     "metadata": {},
     "output_type": "execute_result"
    }
   ],
   "source": [
    "meetings[::2]"
   ]
  },
  {
   "cell_type": "markdown",
   "id": "c919622f-139f-40ab-9e9e-60db88852651",
   "metadata": {},
   "source": [
    "### Adding new event"
   ]
  },
  {
   "cell_type": "code",
   "execution_count": 32,
   "id": "3db465d4-ae9b-4228-9edd-1b2f5936a86d",
   "metadata": {},
   "outputs": [],
   "source": [
    "new_meeting = [(\"20-08-2024\", \"13:00\"),(\"20-12-2024\", \"16:00\")]"
   ]
  },
  {
   "cell_type": "code",
   "execution_count": 33,
   "id": "c6fe67f9-b52c-429e-9e91-43eeef1f16e0",
   "metadata": {},
   "outputs": [],
   "source": [
    "meetings.append(new_meeting)"
   ]
  },
  {
   "cell_type": "code",
   "execution_count": 34,
   "id": "6ca18b62-49a6-410d-9962-03c16c4de4fa",
   "metadata": {},
   "outputs": [
    {
     "data": {
      "text/plain": [
       "[('15-08-2024', '11:00'),\n",
       " ('15-08-2024', '13:30'),\n",
       " ('15-08-2024', '15:00'),\n",
       " [('20-08-2024', '13:00'), ('20-12-2024', '16:00')]]"
      ]
     },
     "execution_count": 34,
     "metadata": {},
     "output_type": "execute_result"
    }
   ],
   "source": [
    "meetings"
   ]
  },
  {
   "cell_type": "code",
   "execution_count": 35,
   "id": "13755fe7-3f31-4ea2-ab80-5b6a3871ba0f",
   "metadata": {},
   "outputs": [
    {
     "data": {
      "text/plain": [
       "4"
      ]
     },
     "execution_count": 35,
     "metadata": {},
     "output_type": "execute_result"
    }
   ],
   "source": [
    "len(meetings)"
   ]
  },
  {
   "cell_type": "markdown",
   "id": "a54766bd-3aa0-4312-b8e0-322c602e77c6",
   "metadata": {},
   "source": [
    "### Accesing 4th and 5th Event and print the time of 5th event"
   ]
  },
  {
   "cell_type": "code",
   "execution_count": 36,
   "id": "2ccf3ce9-07f3-4a9a-aff2-f864d9a6269e",
   "metadata": {},
   "outputs": [
    {
     "data": {
      "text/plain": [
       "[('20-08-2024', '13:00'), ('20-12-2024', '16:00')]"
      ]
     },
     "execution_count": 36,
     "metadata": {},
     "output_type": "execute_result"
    }
   ],
   "source": [
    "meetings[3]"
   ]
  },
  {
   "cell_type": "code",
   "execution_count": 37,
   "id": "6e355112-4332-4940-88c1-85be9bb41085",
   "metadata": {},
   "outputs": [
    {
     "data": {
      "text/plain": [
       "'16:00'"
      ]
     },
     "execution_count": 37,
     "metadata": {},
     "output_type": "execute_result"
    }
   ],
   "source": [
    "meetings[3][1][1]"
   ]
  },
  {
   "cell_type": "markdown",
   "id": "ab613127-081b-4a90-a645-5c6faa9d93a4",
   "metadata": {},
   "source": [
    "## 4. Store a company's employee details, organized by department. (Use dictionary in dictionary)."
   ]
  },
  {
   "cell_type": "markdown",
   "id": "f341ec5c-db6d-487c-83bf-7564f0295849",
   "metadata": {},
   "source": [
    "### Create Eployees Details Department wise."
   ]
  },
  {
   "cell_type": "code",
   "execution_count": 38,
   "id": "f89ce84e-5245-457d-826e-d1ae74e18b9a",
   "metadata": {},
   "outputs": [],
   "source": [
    "Sales = {\"123\": {\"name\": \"Noman\", \"role\": \"Sales Manager\"},\n",
    "        \"456\": {\"name\": \"Aliha\", \"role\": \"Sales Representative\"}}\n",
    "\n",
    "IT = {\"789\": {\"name\": \"Norin\", \"role\": \"Software Engineer\"},\n",
    "      \"101\": {\"name\": \"Mirha\", \"role\": \"Database Administrator\"}}\n",
    "\n",
    "Marketing = {\"178\": {\"name\": \"Mezban\", \"role\": \"Content Writer\"},\n",
    "             \"101\": {\"name\": \"Mehman\", \"role\": \"Graphic Designer\"}}\n",
    "\n",
    "Administration = {\"895\": {\"name\": \"Zunaira\", \"role\": \"Accountant\"},\n",
    "                  \"101\": {\"name\": \"Ruba\", \"role\": \"Support Engineer\"}}"
   ]
  },
  {
   "cell_type": "markdown",
   "id": "732c0af4-51ab-480d-a78e-5af9d87feec4",
   "metadata": {},
   "source": [
    "### Storing Eployees Details."
   ]
  },
  {
   "cell_type": "code",
   "execution_count": 39,
   "id": "9d791785-0fd7-4c8b-a43d-6f11bd860a92",
   "metadata": {},
   "outputs": [],
   "source": [
    "employee_data = {\n",
    "    \"Sales\": {\n",
    "        \"123\": {\"name\": \"Noman\", \"role\": \"Sales Manager\"},\n",
    "        \"456\": {\"name\": \"Aliha\", \"role\": \"Sales Representative\"}\n",
    "    },\n",
    "    \"IT\": {\n",
    "        \"789\": {\"name\": \"Norin\", \"role\": \"Software Engineer\"},\n",
    "        \"101\": {\"name\": \"Mirha\", \"role\": \"Database Administrator\"}\n",
    "    },\n",
    "    \"Marketing\":{\n",
    "        \"178\": {\"name\": \"Mezban\", \"role\": \"Content Writer\"},\n",
    "        \"101\": {\"name\": \"Mehman\", \"role\": \"Graphic Designer\"}\n",
    "    },\n",
    "    \"Administration\": {\n",
    "        \"895\": {\"name\": \"Zunaira\", \"role\": \"Accountant\"},\n",
    "        \"101\": {\"name\": \"Ruba\", \"role\": \"Support Engineer\"}\n",
    "    }}"
   ]
  },
  {
   "cell_type": "code",
   "execution_count": 40,
   "id": "f96fa946-8b1a-4d0f-9ab1-267a4d023494",
   "metadata": {},
   "outputs": [
    {
     "data": {
      "text/plain": [
       "dict"
      ]
     },
     "execution_count": 40,
     "metadata": {},
     "output_type": "execute_result"
    }
   ],
   "source": [
    "type(employee_data)"
   ]
  },
  {
   "cell_type": "markdown",
   "id": "af6dc483-9b2e-4e23-a8a4-3f56045f7622",
   "metadata": {},
   "source": [
    "### Updating New Data"
   ]
  },
  {
   "cell_type": "code",
   "execution_count": 41,
   "id": "12a7463b-537d-4691-a9a0-61239d3bd198",
   "metadata": {},
   "outputs": [],
   "source": [
    "new_data = {\"HR\":{\n",
    "            \"6653\" :{\"name\" : \"Mohsin\", \"role\": \"HR Manager\"},\n",
    "            \"5562\": {\"name\": \"Yumna\", \"role\": \"HR Assistant\"}\n",
    "}}"
   ]
  },
  {
   "cell_type": "code",
   "execution_count": 42,
   "id": "a6116324-dcf4-4983-93b0-908ad22959c7",
   "metadata": {},
   "outputs": [],
   "source": [
    "employee_data.update(new_data)"
   ]
  },
  {
   "cell_type": "code",
   "execution_count": 43,
   "id": "9a321ac5-7d4d-4673-9b81-947531d4a520",
   "metadata": {},
   "outputs": [
    {
     "data": {
      "text/plain": [
       "{'Sales': {'123': {'name': 'Noman', 'role': 'Sales Manager'},\n",
       "  '456': {'name': 'Aliha', 'role': 'Sales Representative'}},\n",
       " 'IT': {'789': {'name': 'Norin', 'role': 'Software Engineer'},\n",
       "  '101': {'name': 'Mirha', 'role': 'Database Administrator'}},\n",
       " 'Marketing': {'178': {'name': 'Mezban', 'role': 'Content Writer'},\n",
       "  '101': {'name': 'Mehman', 'role': 'Graphic Designer'}},\n",
       " 'Administration': {'895': {'name': 'Zunaira', 'role': 'Accountant'},\n",
       "  '101': {'name': 'Ruba', 'role': 'Support Engineer'}},\n",
       " 'HR': {'6653': {'name': 'Mohsin', 'role': 'HR Manager'},\n",
       "  '5562': {'name': 'Yumna', 'role': 'HR Assistant'}}}"
      ]
     },
     "execution_count": 43,
     "metadata": {},
     "output_type": "execute_result"
    }
   ],
   "source": [
    "employee_data"
   ]
  },
  {
   "cell_type": "markdown",
   "id": "e969de7a-3e9f-43c2-a615-aba6b471176e",
   "metadata": {},
   "source": [
    "### Accessing data from the dictionary"
   ]
  },
  {
   "cell_type": "code",
   "execution_count": 44,
   "id": "8414bb78-7eac-4ca5-a36c-beb116702c79",
   "metadata": {},
   "outputs": [
    {
     "data": {
      "text/plain": [
       "{'name': 'Yumna', 'role': 'HR Assistant'}"
      ]
     },
     "execution_count": 44,
     "metadata": {},
     "output_type": "execute_result"
    }
   ],
   "source": [
    "employee_data['HR']['5562']"
   ]
  },
  {
   "cell_type": "code",
   "execution_count": 45,
   "id": "1a7aa25d-6b40-409b-8484-af1be5af8f13",
   "metadata": {},
   "outputs": [
    {
     "data": {
      "text/plain": [
       "{'789': {'name': 'Norin', 'role': 'Software Engineer'},\n",
       " '101': {'name': 'Mirha', 'role': 'Database Administrator'}}"
      ]
     },
     "execution_count": 45,
     "metadata": {},
     "output_type": "execute_result"
    }
   ],
   "source": [
    "employee_data['IT']"
   ]
  },
  {
   "cell_type": "markdown",
   "id": "5377f7ba-0e21-4905-8086-a9e13d3683f5",
   "metadata": {},
   "source": [
    "## 5. Keep track of student scores in various subjects and retrieve a student's scores. (Use dictionary in List)."
   ]
  },
  {
   "cell_type": "markdown",
   "id": "0e3ec87a-149c-43ca-a397-82b5a3b70fa6",
   "metadata": {},
   "source": [
    "### Creating Student Score Record"
   ]
  },
  {
   "cell_type": "code",
   "execution_count": 46,
   "id": "48509bf1-e480-414f-9b2d-cee1094cf710",
   "metadata": {},
   "outputs": [],
   "source": [
    "student1 = {'Data Science' : 95, 'Big Data Analytics' : 83, 'Data Structure' : 78, 'Data Visualization' : 86}\n",
    "student2 = {'Data Science' : 88, 'Big Data Analytics' : 93, 'Data Structure' : 77, 'Data Visualization' : 76}\n",
    "student3 = {'Data Science' : 79, 'Big Data Analytics' : 80, 'Data Structure' : 68, 'Data Visualization' : 73}\n",
    "student4 = {'Data Science' : 74, 'Big Data Analytics' : 73, 'Data Structure' : 88, 'Data Visualization' : 69}\n",
    "                   "
   ]
  },
  {
   "cell_type": "markdown",
   "id": "95c9e100-d91b-4aae-bac1-8ee52b2a00bb",
   "metadata": {},
   "source": [
    "### Storing Student Score Record"
   ]
  },
  {
   "cell_type": "code",
   "execution_count": 47,
   "id": "09326f43-88df-424b-87eb-372ac67d513a",
   "metadata": {},
   "outputs": [
    {
     "data": {
      "text/plain": [
       "{'student1': {'Data Science': 95,\n",
       "  'Big Data Analytics': 83,\n",
       "  'Data Structure': 78,\n",
       "  'Data Visualization': 86},\n",
       " 'student2': {'Data Science': 88,\n",
       "  'Big Data Analytics': 93,\n",
       "  'Data Structure': 77,\n",
       "  'Data Visualization': 76},\n",
       " 'student3': {'Data Science': 79,\n",
       "  'Big Data Analytics': 80,\n",
       "  'Data Structure': 68,\n",
       "  'Data Visualization': 73},\n",
       " 'student4': {'Data Science': 74,\n",
       "  'Big Data Analytics': 73,\n",
       "  'Data Structure': 88,\n",
       "  'Data Visualization': 69}}"
      ]
     },
     "execution_count": 47,
     "metadata": {},
     "output_type": "execute_result"
    }
   ],
   "source": [
    "student_record =  {\"student1\" : {'Data Science' : 95, 'Big Data Analytics' : 83, 'Data Structure' : 78, 'Data Visualization' : 86},\n",
    "                   \"student2\" : {'Data Science' : 88, 'Big Data Analytics' : 93, 'Data Structure' : 77, 'Data Visualization' : 76},\n",
    "                   \"student3\" : {'Data Science' : 79, 'Big Data Analytics' : 80, 'Data Structure' : 68, 'Data Visualization' : 73},\n",
    "                    \"student4\" : {'Data Science' : 74, 'Big Data Analytics' : 73, 'Data Structure' : 88, 'Data Visualization' : 69}}\n",
    "student_record"
   ]
  },
  {
   "cell_type": "markdown",
   "id": "59687dab-38f3-4dc1-96c5-efbe2855c85e",
   "metadata": {},
   "source": [
    "### Updating New Record."
   ]
  },
  {
   "cell_type": "code",
   "execution_count": 48,
   "id": "6272fbfe-5ddc-47a4-bff5-c6666a145df6",
   "metadata": {},
   "outputs": [],
   "source": [
    "new_record = {\"new_std\" : {'Data Science' : 84, 'Big Data Analytics' : 89, 'Data Structure' : 88, 'Data Visualization' : 89}}"
   ]
  },
  {
   "cell_type": "code",
   "execution_count": 49,
   "id": "57864b1e-1dba-460a-9e93-1694e7e74ee4",
   "metadata": {},
   "outputs": [],
   "source": [
    "student_record.update(new_record)"
   ]
  },
  {
   "cell_type": "code",
   "execution_count": 50,
   "id": "642386a2-a3c9-419a-8606-0303f16e5545",
   "metadata": {},
   "outputs": [
    {
     "data": {
      "text/plain": [
       "{'student1': {'Data Science': 95,\n",
       "  'Big Data Analytics': 83,\n",
       "  'Data Structure': 78,\n",
       "  'Data Visualization': 86},\n",
       " 'student2': {'Data Science': 88,\n",
       "  'Big Data Analytics': 93,\n",
       "  'Data Structure': 77,\n",
       "  'Data Visualization': 76},\n",
       " 'student3': {'Data Science': 79,\n",
       "  'Big Data Analytics': 80,\n",
       "  'Data Structure': 68,\n",
       "  'Data Visualization': 73},\n",
       " 'student4': {'Data Science': 74,\n",
       "  'Big Data Analytics': 73,\n",
       "  'Data Structure': 88,\n",
       "  'Data Visualization': 69},\n",
       " 'new_std': {'Data Science': 84,\n",
       "  'Big Data Analytics': 89,\n",
       "  'Data Structure': 88,\n",
       "  'Data Visualization': 89}}"
      ]
     },
     "execution_count": 50,
     "metadata": {},
     "output_type": "execute_result"
    }
   ],
   "source": [
    "student_record"
   ]
  },
  {
   "cell_type": "markdown",
   "id": "042fd014-4e4b-459c-ba05-adc3b3265c3c",
   "metadata": {},
   "source": [
    "### Accessing Student Record"
   ]
  },
  {
   "cell_type": "code",
   "execution_count": 51,
   "id": "fee241dc-1e14-4ead-bbdc-f0add4ba3ebe",
   "metadata": {},
   "outputs": [
    {
     "data": {
      "text/plain": [
       "{'Data Science': 84,\n",
       " 'Big Data Analytics': 89,\n",
       " 'Data Structure': 88,\n",
       " 'Data Visualization': 89}"
      ]
     },
     "execution_count": 51,
     "metadata": {},
     "output_type": "execute_result"
    }
   ],
   "source": [
    "student_record[\"new_std\"]"
   ]
  },
  {
   "cell_type": "code",
   "execution_count": 52,
   "id": "debaa931-1b65-413f-8dcd-c690b920e659",
   "metadata": {},
   "outputs": [
    {
     "data": {
      "text/plain": [
       "89"
      ]
     },
     "execution_count": 52,
     "metadata": {},
     "output_type": "execute_result"
    }
   ],
   "source": [
    "student_record[\"new_std\"][\"Big Data Analytics\"]"
   ]
  },
  {
   "cell_type": "code",
   "execution_count": 53,
   "id": "0dc3df61-7f6d-4147-8c56-1e46b605741f",
   "metadata": {},
   "outputs": [
    {
     "data": {
      "text/plain": [
       "73"
      ]
     },
     "execution_count": 53,
     "metadata": {},
     "output_type": "execute_result"
    }
   ],
   "source": [
    "student_record[\"student3\"][\"Data Visualization\"]"
   ]
  },
  {
   "cell_type": "markdown",
   "id": "aa6aceb1-cd97-45e5-b36c-c69ead8e7f5c",
   "metadata": {},
   "source": [
    "## 6. Track various projects and their associated tasks, and retrieve tasks for a specific project. (Use List in Dictionary)."
   ]
  },
  {
   "cell_type": "markdown",
   "id": "b1f0c2ed-b91c-413a-8fad-f437557dc4ce",
   "metadata": {},
   "source": [
    "### Create projects and associated tasks"
   ]
  },
  {
   "cell_type": "code",
   "execution_count": 54,
   "id": "e9845a7e-8188-44c0-b5f9-fc87223dfe9f",
   "metadata": {},
   "outputs": [],
   "source": [
    "website_Development = [\"Define Project Scope\",\"Develop mockups and wireframes\",\"Set up the environment\",\"Markiting\",\"Testing\", \"Deployement\"]\n",
    "learning_new_skill = [\"Selecting a skill\", \"Find resources\", \"Set a learning schedule\", \"Practice\", \"track progress\", \"learning out comes\"]\n",
    "finance_management_project = [\"Set a monthly budget\", \"Home expenses\", \"bills\", \"Review\", \"adjust the budget\", \"Save for future goals\"]"
   ]
  },
  {
   "cell_type": "markdown",
   "id": "3764f33d-a513-41da-9fb7-ff119cb57218",
   "metadata": {},
   "source": [
    "### Storing list of projects and associate tasks"
   ]
  },
  {
   "cell_type": "code",
   "execution_count": 55,
   "id": "8d6efa4c-4f3a-4bc4-81fd-70b0cbf0c182",
   "metadata": {},
   "outputs": [],
   "source": [
    "project_list_in_dictionary = {\"website_Development\" : [\"Define Project Scope\",\"Develop mockups and wireframes\",\"Set up the environment\",\"Markiting\",\"Testing\", \"Deployement\"],\n",
    "                              \"learning_new_skill\" : [\"Selecting a skill\", \"Find resources\", \"Set a learning schedule\", \"Practice\", \"track progress\", \"learning out comes\"],\n",
    "                              \"finance_management_project\" : [\"Set a monthly budget\", \"Home expenses\", \"bills\", \"Review\", \"adjust the budget\", \"Save for future goals\"]}"
   ]
  },
  {
   "cell_type": "code",
   "execution_count": 56,
   "id": "ef597ac9-98e3-4e64-aa2d-9bde32204d09",
   "metadata": {},
   "outputs": [
    {
     "data": {
      "text/plain": [
       "{'website_Development': ['Define Project Scope',\n",
       "  'Develop mockups and wireframes',\n",
       "  'Set up the environment',\n",
       "  'Markiting',\n",
       "  'Testing',\n",
       "  'Deployement'],\n",
       " 'learning_new_skill': ['Selecting a skill',\n",
       "  'Find resources',\n",
       "  'Set a learning schedule',\n",
       "  'Practice',\n",
       "  'track progress',\n",
       "  'learning out comes'],\n",
       " 'finance_management_project': ['Set a monthly budget',\n",
       "  'Home expenses',\n",
       "  'bills',\n",
       "  'Review',\n",
       "  'adjust the budget',\n",
       "  'Save for future goals']}"
      ]
     },
     "execution_count": 56,
     "metadata": {},
     "output_type": "execute_result"
    }
   ],
   "source": [
    "project_list_in_dictionary"
   ]
  },
  {
   "cell_type": "code",
   "execution_count": 57,
   "id": "7b0a8349-b2d8-4d40-9557-b602d02d53d3",
   "metadata": {},
   "outputs": [
    {
     "data": {
      "text/plain": [
       "dict"
      ]
     },
     "execution_count": 57,
     "metadata": {},
     "output_type": "execute_result"
    }
   ],
   "source": [
    "type(project_list_in_dictionary)"
   ]
  },
  {
   "cell_type": "markdown",
   "id": "dba3af5e-718a-4ddf-95c4-30e27fdd525a",
   "metadata": {},
   "source": [
    "### Updating New Project"
   ]
  },
  {
   "cell_type": "code",
   "execution_count": 58,
   "id": "ad0a455a-caa6-4293-b38e-a2f61b44c083",
   "metadata": {},
   "outputs": [
    {
     "data": {
      "text/plain": [
       "{'website_Development': ['Define Project Scope',\n",
       "  'Develop mockups and wireframes',\n",
       "  'Set up the environment',\n",
       "  'Markiting',\n",
       "  'Testing',\n",
       "  'Deployement'],\n",
       " 'learning_new_skill': ['Selecting a skill',\n",
       "  'Find resources',\n",
       "  'Set a learning schedule',\n",
       "  'Practice',\n",
       "  'track progress',\n",
       "  'learning out comes'],\n",
       " 'finance_management_project': ['Set a monthly budget',\n",
       "  'Home expenses',\n",
       "  'bills',\n",
       "  'Review',\n",
       "  'adjust the budget',\n",
       "  'Save for future goals']}"
      ]
     },
     "execution_count": 58,
     "metadata": {},
     "output_type": "execute_result"
    }
   ],
   "source": [
    "project_list_in_dictionary"
   ]
  },
  {
   "cell_type": "code",
   "execution_count": 59,
   "id": "1b516665-036f-43f7-bd16-913b731a3a43",
   "metadata": {},
   "outputs": [],
   "source": [
    "project_list_in_dictionary[\"Research\"] = [\"Idetifying the problem\", \"Writing Abstract\", \"Literature Review\", \"Methods\", \"Finding\", \"Discussions\" ]"
   ]
  },
  {
   "cell_type": "code",
   "execution_count": 60,
   "id": "2bb98286-6fd1-4745-b2c8-238700c76480",
   "metadata": {},
   "outputs": [
    {
     "data": {
      "text/plain": [
       "{'website_Development': ['Define Project Scope',\n",
       "  'Develop mockups and wireframes',\n",
       "  'Set up the environment',\n",
       "  'Markiting',\n",
       "  'Testing',\n",
       "  'Deployement'],\n",
       " 'learning_new_skill': ['Selecting a skill',\n",
       "  'Find resources',\n",
       "  'Set a learning schedule',\n",
       "  'Practice',\n",
       "  'track progress',\n",
       "  'learning out comes'],\n",
       " 'finance_management_project': ['Set a monthly budget',\n",
       "  'Home expenses',\n",
       "  'bills',\n",
       "  'Review',\n",
       "  'adjust the budget',\n",
       "  'Save for future goals'],\n",
       " 'Research': ['Idetifying the problem',\n",
       "  'Writing Abstract',\n",
       "  'Literature Review',\n",
       "  'Methods',\n",
       "  'Finding',\n",
       "  'Discussions']}"
      ]
     },
     "execution_count": 60,
     "metadata": {},
     "output_type": "execute_result"
    }
   ],
   "source": [
    "project_list_in_dictionary"
   ]
  },
  {
   "cell_type": "markdown",
   "id": "f619a43b-b44b-49b8-8048-f7f2a6a8d421",
   "metadata": {},
   "source": [
    "### Accessing project and associated tasks."
   ]
  },
  {
   "cell_type": "code",
   "execution_count": 61,
   "id": "76515324-ce96-44b2-9e84-e79cc044e22a",
   "metadata": {},
   "outputs": [
    {
     "data": {
      "text/plain": [
       "['Idetifying the problem',\n",
       " 'Writing Abstract',\n",
       " 'Literature Review',\n",
       " 'Methods',\n",
       " 'Finding',\n",
       " 'Discussions']"
      ]
     },
     "execution_count": 61,
     "metadata": {},
     "output_type": "execute_result"
    }
   ],
   "source": [
    "project_list_in_dictionary[\"Research\"]"
   ]
  },
  {
   "cell_type": "code",
   "execution_count": 62,
   "id": "cde7cd2d-c48d-443c-be2a-743ea8f2feae",
   "metadata": {},
   "outputs": [
    {
     "data": {
      "text/plain": [
       "['Selecting a skill', 'Set a learning schedule', 'track progress']"
      ]
     },
     "execution_count": 62,
     "metadata": {},
     "output_type": "execute_result"
    }
   ],
   "source": [
    "project_list_in_dictionary[\"learning_new_skill\"][::2]"
   ]
  },
  {
   "cell_type": "code",
   "execution_count": 63,
   "id": "0f02dac2-24ef-475d-b8fc-367dc983569a",
   "metadata": {},
   "outputs": [
    {
     "data": {
      "text/plain": [
       "['Define Project Scope', 'Set up the environment', 'Testing']"
      ]
     },
     "execution_count": 63,
     "metadata": {},
     "output_type": "execute_result"
    }
   ],
   "source": [
    "project_list_in_dictionary[\"website_Development\"][::2]"
   ]
  },
  {
   "cell_type": "code",
   "execution_count": 64,
   "id": "0919bbfe-c4f6-4817-9cd7-198ed90730e3",
   "metadata": {},
   "outputs": [
    {
     "name": "stdout",
     "output_type": "stream",
     "text": [
      "['Define Project Scope', 'Develop mockups and wireframes', 'Set up the environment', 'Markiting', 'Testing', 'Deployement']\n"
     ]
    }
   ],
   "source": [
    "if project_list_in_dictionary[\"website_Development\"][2] == \"Set up the environment\":\n",
    "    print(project_list_in_dictionary[\"website_Development\"])\n",
    "else:\n",
    "    print(project_list_in_dictionary[\"finance_management_project\"])"
   ]
  },
  {
   "cell_type": "markdown",
   "id": "3338a79f-e395-45ac-84af-cf63daf14687",
   "metadata": {},
   "source": [
    "## 7. Manage courses and their contents in a training program and retrieve details of a specific module. (dictionary in dictionary)"
   ]
  },
  {
   "cell_type": "code",
   "execution_count": 65,
   "id": "0579296d-fe53-4980-a2bd-b5cfad2f5826",
   "metadata": {},
   "outputs": [],
   "source": [
    "training_program = {\n",
    "    \"Data Analytics\": {\n",
    "        \"Module 1\": \"Introduction to Data Analytics\",\n",
    "        \"Module 2\": \"Python programing\",\n",
    "        \"Module 3\": \"Statistic\",\n",
    "        \"Module 4\": \"Visvalization\"\n",
    "    },\n",
    "    \"Web Design\": {\n",
    "        \"Module 1\": \"Introduction to Web Design\",\n",
    "        \"Module 2\": \"Generating basic Designing Ideas\",\n",
    "        \"Module 3\": \"Visualizing Ideas\",\n",
    "        \"Module 4\": \"Content Writing\"\n",
    "    }\n",
    "}"
   ]
  },
  {
   "cell_type": "code",
   "execution_count": 66,
   "id": "82b37cf6-f2d6-42a9-ba28-4f76b6c4159b",
   "metadata": {},
   "outputs": [
    {
     "data": {
      "text/plain": [
       "{'Data Analytics': {'Module 1': 'Introduction to Data Analytics',\n",
       "  'Module 2': 'Python programing',\n",
       "  'Module 3': 'Statistic',\n",
       "  'Module 4': 'Visvalization'},\n",
       " 'Web Design': {'Module 1': 'Introduction to Web Design',\n",
       "  'Module 2': 'Generating basic Designing Ideas',\n",
       "  'Module 3': 'Visualizing Ideas',\n",
       "  'Module 4': 'Content Writing'}}"
      ]
     },
     "execution_count": 66,
     "metadata": {},
     "output_type": "execute_result"
    }
   ],
   "source": [
    "training_program"
   ]
  },
  {
   "cell_type": "markdown",
   "id": "d70665a7-3084-475d-8a6d-eb8579da9f99",
   "metadata": {},
   "source": [
    "### New upcoming programs"
   ]
  },
  {
   "cell_type": "code",
   "execution_count": 67,
   "id": "7d9e739b-169b-4072-a58f-46b66b227bf9",
   "metadata": {},
   "outputs": [],
   "source": [
    "new_programs = {\n",
    "    \"Python\": {\n",
    "        \"Module 1\": \"Introduction to Python\",\n",
    "        \"Module 2\": \"Learning basics of python\",\n",
    "        \"Module 3\": \"Data structure in python\",\n",
    "        \"Module 4\": \"Object Oriented Programming\"\n",
    "    },\n",
    "    \"Software Quality Assurance\": {\n",
    "        \"Module 1\": \"Testing methods\",\n",
    "        \"Module 2\": \"Testing Cases\",\n",
    "        \"Module 3\": \"Manual\",\n",
    "        \"Module 4\": \"Automation\"\n",
    "    }\n",
    "}"
   ]
  },
  {
   "cell_type": "code",
   "execution_count": 68,
   "id": "e4b54e9c-8714-4bbf-8e40-f117e0a7eb5e",
   "metadata": {},
   "outputs": [],
   "source": [
    "training_program.update(new_programs)"
   ]
  },
  {
   "cell_type": "code",
   "execution_count": 69,
   "id": "0547fb73-7dff-476d-9fea-08733787bfe8",
   "metadata": {},
   "outputs": [
    {
     "data": {
      "text/plain": [
       "{'Data Analytics': {'Module 1': 'Introduction to Data Analytics',\n",
       "  'Module 2': 'Python programing',\n",
       "  'Module 3': 'Statistic',\n",
       "  'Module 4': 'Visvalization'},\n",
       " 'Web Design': {'Module 1': 'Introduction to Web Design',\n",
       "  'Module 2': 'Generating basic Designing Ideas',\n",
       "  'Module 3': 'Visualizing Ideas',\n",
       "  'Module 4': 'Content Writing'},\n",
       " 'Python': {'Module 1': 'Introduction to Python',\n",
       "  'Module 2': 'Learning basics of python',\n",
       "  'Module 3': 'Data structure in python',\n",
       "  'Module 4': 'Object Oriented Programming'},\n",
       " 'Software Quality Assurance': {'Module 1': 'Testing methods',\n",
       "  'Module 2': 'Testing Cases',\n",
       "  'Module 3': 'Manual',\n",
       "  'Module 4': 'Automation'}}"
      ]
     },
     "execution_count": 69,
     "metadata": {},
     "output_type": "execute_result"
    }
   ],
   "source": [
    "training_program"
   ]
  },
  {
   "cell_type": "markdown",
   "id": "003c67cd-2ba5-4187-817a-4f922bd1958f",
   "metadata": {},
   "source": [
    "### Accesing Program and module details"
   ]
  },
  {
   "cell_type": "code",
   "execution_count": 70,
   "id": "1d58c5a3-de78-4d68-80d6-f950ed4aff37",
   "metadata": {},
   "outputs": [
    {
     "data": {
      "text/plain": [
       "'Data structure in python'"
      ]
     },
     "execution_count": 70,
     "metadata": {},
     "output_type": "execute_result"
    }
   ],
   "source": [
    "training_program[\"Python\"][\"Module 3\"]"
   ]
  },
  {
   "cell_type": "code",
   "execution_count": 71,
   "id": "28f72ce8-8a1b-4742-bc84-83b412d594cf",
   "metadata": {},
   "outputs": [
    {
     "data": {
      "text/plain": [
       "dict_keys(['Data Analytics', 'Web Design', 'Python', 'Software Quality Assurance'])"
      ]
     },
     "execution_count": 71,
     "metadata": {},
     "output_type": "execute_result"
    }
   ],
   "source": [
    "keys = training_program.keys()\n",
    "keys"
   ]
  },
  {
   "cell_type": "code",
   "execution_count": 72,
   "id": "84955def-4393-4f1f-a9f8-40c1edaba165",
   "metadata": {},
   "outputs": [
    {
     "data": {
      "text/plain": [
       "{'Module 1': 'Introduction to Data Analytics',\n",
       " 'Module 2': 'Python programing',\n",
       " 'Module 3': 'Statistic',\n",
       " 'Module 4': 'Visvalization'}"
      ]
     },
     "execution_count": 72,
     "metadata": {},
     "output_type": "execute_result"
    }
   ],
   "source": [
    "training_program.get(\"Data Analytics\")"
   ]
  },
  {
   "cell_type": "markdown",
   "id": "b15f131a-1d51-43ab-9dc4-363aaacf1e99",
   "metadata": {},
   "source": [
    "## 8.You have a list where each element is a tuple containing a product's name and its price. You need to find products that are below a certain price threshold. (Use unpacking lists of tuples)"
   ]
  },
  {
   "cell_type": "markdown",
   "id": "138f5d2e-17c3-40c6-917d-287bb64051c4",
   "metadata": {},
   "source": [
    "### Creating List tuples for a product."
   ]
  },
  {
   "cell_type": "code",
   "execution_count": 73,
   "id": "155945be-8163-4296-920d-65a6eb386d2c",
   "metadata": {},
   "outputs": [],
   "source": [
    "products = [\n",
    "    (\"Laptop\", 1200),\n",
    "    (\"Smartphone\", 800),\n",
    "    (\"Tablet\", 300),\n",
    "    (\"Headphones\", 150),\n",
    "    (\"Smartwatch\", 200)\n",
    "]"
   ]
  },
  {
   "cell_type": "code",
   "execution_count": 74,
   "id": "8569cd02-2bb5-4589-9bb8-53a5d7d8af60",
   "metadata": {},
   "outputs": [
    {
     "data": {
      "text/plain": [
       "[('Laptop', 1200),\n",
       " ('Smartphone', 800),\n",
       " ('Tablet', 300),\n",
       " ('Headphones', 150),\n",
       " ('Smartwatch', 200)]"
      ]
     },
     "execution_count": 74,
     "metadata": {},
     "output_type": "execute_result"
    }
   ],
   "source": [
    "products"
   ]
  },
  {
   "cell_type": "code",
   "execution_count": 75,
   "id": "b2d13191-38ee-4bf8-af15-d79f69df95aa",
   "metadata": {},
   "outputs": [],
   "source": [
    "product1, product2, product3, product4, product5 = products"
   ]
  },
  {
   "cell_type": "code",
   "execution_count": 76,
   "id": "ea3d4cd0-094d-479d-9793-5c2e015825b7",
   "metadata": {},
   "outputs": [
    {
     "data": {
      "text/plain": [
       "('Laptop', 1200)"
      ]
     },
     "execution_count": 76,
     "metadata": {},
     "output_type": "execute_result"
    }
   ],
   "source": [
    "product1"
   ]
  },
  {
   "cell_type": "code",
   "execution_count": 77,
   "id": "2ff7a74c-462e-45c4-9189-fe409d42460f",
   "metadata": {},
   "outputs": [
    {
     "data": {
      "text/plain": [
       "('Smartphone', 800)"
      ]
     },
     "execution_count": 77,
     "metadata": {},
     "output_type": "execute_result"
    }
   ],
   "source": [
    "product2"
   ]
  },
  {
   "cell_type": "code",
   "execution_count": 78,
   "id": "9fd353c4-44d4-48e3-9aee-5bd3ce0c12f2",
   "metadata": {},
   "outputs": [
    {
     "data": {
      "text/plain": [
       "('Tablet', 300)"
      ]
     },
     "execution_count": 78,
     "metadata": {},
     "output_type": "execute_result"
    }
   ],
   "source": [
    "product3"
   ]
  },
  {
   "cell_type": "code",
   "execution_count": 79,
   "id": "6a4def6a-192d-44d2-8eff-a51edc0f5292",
   "metadata": {},
   "outputs": [
    {
     "data": {
      "text/plain": [
       "('Headphones', 150)"
      ]
     },
     "execution_count": 79,
     "metadata": {},
     "output_type": "execute_result"
    }
   ],
   "source": [
    "product4"
   ]
  },
  {
   "cell_type": "code",
   "execution_count": 80,
   "id": "99895fb0-692a-4e05-8319-51080706fe50",
   "metadata": {},
   "outputs": [
    {
     "data": {
      "text/plain": [
       "('Smartwatch', 200)"
      ]
     },
     "execution_count": 80,
     "metadata": {},
     "output_type": "execute_result"
    }
   ],
   "source": [
    "product5"
   ]
  },
  {
   "cell_type": "code",
   "execution_count": 86,
   "id": "ad209bbb-08fc-488a-9e68-8c9a70d01189",
   "metadata": {},
   "outputs": [
    {
     "ename": "SyntaxError",
     "evalue": "invalid syntax (4011127923.py, line 3)",
     "output_type": "error",
     "traceback": [
      "\u001b[1;36m  Cell \u001b[1;32mIn[86], line 3\u001b[1;36m\u001b[0m\n\u001b[1;33m    elif products[][] > 700 and products[][] < 1300:\u001b[0m\n\u001b[1;37m                  ^\u001b[0m\n\u001b[1;31mSyntaxError\u001b[0m\u001b[1;31m:\u001b[0m invalid syntax\n"
     ]
    }
   ],
   "source": [
    "if products[1][1] < 1000:\n",
    "    print(product2)\n",
    "elif products[][] > 700 and products[][] < 1300:\n",
    "    print(product1,product2)\n",
    "else:\n",
    "    print(\"Out of budget\")"
   ]
  },
  {
   "cell_type": "code",
   "execution_count": null,
   "id": "9b0fc5ed-9751-42c5-aef7-c99c5bbd3c42",
   "metadata": {},
   "outputs": [],
   "source": []
  }
 ],
 "metadata": {
  "kernelspec": {
   "display_name": "Python 3 (ipykernel)",
   "language": "python",
   "name": "python3"
  },
  "language_info": {
   "codemirror_mode": {
    "name": "ipython",
    "version": 3
   },
   "file_extension": ".py",
   "mimetype": "text/x-python",
   "name": "python",
   "nbconvert_exporter": "python",
   "pygments_lexer": "ipython3",
   "version": "3.12.4"
  }
 },
 "nbformat": 4,
 "nbformat_minor": 5
}
